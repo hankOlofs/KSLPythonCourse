{
 "cells": [
  {
   "cell_type": "markdown",
   "metadata": {},
   "source": [
    "# Python: en grundkurs\n",
    "\n",
    "I den här notebooken kommer vi gå igenom följande:\n",
    "1. Lite nya begrepp\n",
    "2. Laborationsuppgifter som låter dig använda dina nya kunskaper!\n"
   ]
  },
  {
   "cell_type": "markdown",
   "metadata": {},
   "source": [
    "Gör precis som i introduktions-notebooken, kör cellerna genom att ha cellen vald och tryck shift+enter."
   ]
  },
  {
   "cell_type": "markdown",
   "metadata": {},
   "source": [
    "## Ternära uttryck\n",
    "\n",
    "Med ternära (eng. ternary) uttryck kan vi på ett komprimerat sätt skriva villkorsuttryck. Ett exempel:"
   ]
  },
  {
   "cell_type": "code",
   "execution_count": null,
   "metadata": {},
   "outputs": [],
   "source": [
    "a = 3\n",
    "b = 5\n",
    "\n",
    "True if a > b else False"
   ]
  },
  {
   "cell_type": "markdown",
   "metadata": {},
   "source": [
    "Detta motsvarar:"
   ]
  },
  {
   "cell_type": "code",
   "execution_count": null,
   "metadata": {},
   "outputs": [],
   "source": [
    "a = 3\n",
    "b = 5\n",
    "\n",
    "if a > b:\n",
    "    print(\"True\")\n",
    "else:\n",
    "    print(\"False\")"
   ]
  },
  {
   "cell_type": "markdown",
   "metadata": {},
   "source": [
    "## Funktioner, fortsättning\n",
    "\n",
    "Vi kan kalla på funktioner från funktioner. Nedan definierar vi en funktion som printar en sträng (men det kan vara vad som helst). Därefter definierar vi en funktion som tar en annan funktion som argument och kör funktionen."
   ]
  },
  {
   "cell_type": "code",
   "execution_count": null,
   "metadata": {},
   "outputs": [],
   "source": [
    "def print_function():\n",
    "    print(\"I can print something!\")\n",
    "\n",
    "def function_runner(func):\n",
    "    func()"
   ]
  },
  {
   "cell_type": "code",
   "execution_count": null,
   "metadata": {},
   "outputs": [],
   "source": [
    "# Ange funktionsnamnet som input till den andra funktionen\n",
    "function_runner(print_function)"
   ]
  },
  {
   "cell_type": "code",
   "execution_count": null,
   "metadata": {},
   "outputs": [],
   "source": [
    "# Om vi vill ha information om en funktions parametrar kan vi skriva funktionsnamnet.\n",
    "function_runner"
   ]
  },
  {
   "cell_type": "markdown",
   "metadata": {},
   "source": [
    "### Scope\n",
    "\n",
    "I Python existerar som i många andra språk begreppet scope, eller vilket \"utrymme\" som ett objekt existerar i. Det viktigaste för oss att känna till är att det finns ett globalt scope, det vi kör våra funktioner och uttryck i, samt lokala scope inom en funktion. Kör koden nedan och reflektera över vad som händer."
   ]
  },
  {
   "cell_type": "code",
   "execution_count": 48,
   "metadata": {},
   "outputs": [
    {
     "name": "stdout",
     "output_type": "stream",
     "text": [
      ">>> Kallar på funktion f\n",
      "I'm in f! Now x is 5\n",
      ">>> Kallar på funktion g (som kallar på f).\n",
      "I'm in g! Now x is 99\n",
      "I'm in f! Now x is 5\n"
     ]
    }
   ],
   "source": [
    "x = 5\n",
    "\n",
    "def f():\n",
    "    print(\"I'm in f! Now x is\", x) # det finns inget x i det lokala scopet, så funktionen går vidare och letar i det globala scopet.\n",
    "\n",
    "def g(x): \n",
    "    print(\"I'm in g! Now x is\", x) # x är nu en lokal variabel i g:s scope\n",
    "    f() # f använder x från det globala scopet\n",
    "\n",
    "print(\">>> Kallar på funktion f\")\n",
    "f()\n",
    "\n",
    "print(\">>> Kallar på funktion g (som kallar på f).\")\n",
    "g(99)"
   ]
  },
  {
   "cell_type": "markdown",
   "metadata": {},
   "source": [
    "Obs! Det är en dålig vana att använda variabler från ett globalt scope i en funktions lokala scope utan att ange dem som parametrar. "
   ]
  },
  {
   "cell_type": "markdown",
   "metadata": {},
   "source": [
    "### Lambda-funktioner\n",
    "\n",
    "En speciell typ av funktioner är lambda-funktioner (eller anonyma funktioner) som är små begränsade funktioner som bara innehåller ett uttryck. Kanske vill du applicera en viss logik upprepade gånger, men det blir så enkelt att det inte är värt att definiera en vanlig funktion med funktionsnamn, return-värde etc. Då är lambda-funktioner perfekta!\n",
    "\n",
    "Lambda-funktioner följer formen **`lambda` [parametrar]: [uttryck]**. När vi vill kalla på funktionen gör vi det antingen med ett funktionsnamn och argument (t ex `f(x)`) eller genom att omge funktionsdefinitionen med parenteser och ange argumenten i en efterföljande parentes: (**`lambda x: [uttryck]`**)(**`x`**).\n",
    "\n",
    "Här ett exempel på en enkel lambdafunktion som returnerar det värde vi anger som attribut."
   ]
  },
  {
   "cell_type": "code",
   "execution_count": null,
   "metadata": {},
   "outputs": [],
   "source": [
    "simple_lambda = lambda x: x\n",
    "\n",
    "print(simple_lambda(\"input\"))\n",
    "\n",
    "print(simple_lambda(23))"
   ]
  },
  {
   "cell_type": "markdown",
   "metadata": {},
   "source": [
    "Det går utmärkt att lägga till all enklare logik:"
   ]
  },
  {
   "cell_type": "code",
   "execution_count": null,
   "metadata": {},
   "outputs": [],
   "source": [
    "reverse_text = lambda x: x[::-1]\n",
    "\n",
    "reverse_text(\"gnipöknil snoitulos tiwonk\")"
   ]
  },
  {
   "cell_type": "markdown",
   "metadata": {},
   "source": [
    "Här använder vi en lambda-funktion i en loop:"
   ]
  },
  {
   "cell_type": "code",
   "execution_count": null,
   "metadata": {},
   "outputs": [],
   "source": [
    "add_mult = lambda n, k: (n+1)*k\n",
    "\n",
    "list = [1,2,3,4]\n",
    "\n",
    "for n in list:\n",
    "    print(add_mult(n, 3))\n"
   ]
  },
  {
   "cell_type": "markdown",
   "metadata": {},
   "source": [
    "Precis som för vanliga funktioner kan vi se vilka parametrar en viss funktion accepterar:"
   ]
  },
  {
   "cell_type": "code",
   "execution_count": null,
   "metadata": {},
   "outputs": [],
   "source": [
    "add_mult"
   ]
  },
  {
   "cell_type": "markdown",
   "metadata": {},
   "source": [
    "Vi behöver inte ge lambda-funktionen ett namn utan kan använda den direkt:"
   ]
  },
  {
   "cell_type": "code",
   "execution_count": null,
   "metadata": {},
   "outputs": [],
   "source": [
    "sum_list = []\n",
    "\n",
    "for x in zip(range(5), [0,1,2,3,4]):\n",
    "    sum_list.append((lambda x: x[0]+x[1])(x))\n",
    "\n",
    "sum_list"
   ]
  },
  {
   "cell_type": "markdown",
   "metadata": {},
   "source": [
    "**Kontrollfråga**: Vad gör `range(5)` i cellen ovan? Vad gör `zip()`?"
   ]
  },
  {
   "cell_type": "markdown",
   "metadata": {},
   "source": [
    "I överkursdelen i introduktionen så gick vi kort igenom list comprehensions som ett sätt att skriva komprimerad kod som resulterar i en lista. Här kommer ytterligare ett exempel. Vi kan läsa det som \"*gör något med varje element i en iterabel och lägg resultatet från varje iteration i en lista*\"."
   ]
  },
  {
   "cell_type": "code",
   "execution_count": null,
   "metadata": {},
   "outputs": [],
   "source": [
    "[sum(x) for x in zip(range(5), [0,1,2,3,4])]"
   ]
  },
  {
   "cell_type": "markdown",
   "metadata": {},
   "source": [
    "## Try-except, fortsättning"
   ]
  },
  {
   "cell_type": "markdown",
   "metadata": {},
   "source": [
    "Vi utökar vår förståelse för try-except lite. Titta på koden nedan, ser du något problem när vi använder funktionen med argumenten som anges? Kör cellen."
   ]
  },
  {
   "cell_type": "code",
   "execution_count": null,
   "metadata": {},
   "outputs": [],
   "source": [
    "def division(a,b):\n",
    "    result = a/b\n",
    "    return result\n",
    "\n",
    "# Det andra argumentet är en lista\n",
    "division(23,[1])"
   ]
  },
  {
   "cell_type": "markdown",
   "metadata": {},
   "source": [
    "Ajaj, det andra argumentet var en lista, vilket gjorde att vår applikation kraschade. Vi vet att vi kan använda oss av en try-except-konstruktion för att hantera felen, men om vi returnerar samma felmeddelande för alla typer av fel är det inte säkert att användaren förstår vad som gått snett. Vi kan därför ha olika hantering för olika typer av fel, se hur vi gör här:"
   ]
  },
  {
   "cell_type": "code",
   "execution_count": null,
   "metadata": {},
   "outputs": [],
   "source": [
    "def division(a,b):\n",
    "    try:\n",
    "        result = a/b\n",
    "    except TypeError:\n",
    "        print(\"One or more of the arguments were non-numeric!\")\n",
    "    except ZeroDivisionError:\n",
    "        print(\"Cannot divide by zero!\")\n",
    "    else:\n",
    "        return result"
   ]
  },
  {
   "cell_type": "code",
   "execution_count": null,
   "metadata": {},
   "outputs": [],
   "source": [
    "# Vi testar med ett icke-numeriskt argument.\n",
    "division(23,[1])"
   ]
  },
  {
   "cell_type": "code",
   "execution_count": null,
   "metadata": {},
   "outputs": [],
   "source": [
    "# Vi testar också att dela med noll.\n",
    "division(1,0)"
   ]
  },
  {
   "cell_type": "code",
   "execution_count": null,
   "metadata": {},
   "outputs": [],
   "source": [
    "# Vad händer när vi bara anger parameter?\n",
    "division(2)"
   ]
  },
  {
   "cell_type": "markdown",
   "metadata": {},
   "source": [
    "När du kör cellen ovan så får du ju ändå ett type error, vad beror det på? Jo, felet som uppstår beror på att vi kallar funktionen med ett argument för lite, vilket inte ligger i vårt try-block."
   ]
  },
  {
   "cell_type": "markdown",
   "metadata": {},
   "source": [
    "## Dunder-metoder\n",
    "\n",
    "Vi kommer alldeles strax gå igenom klasser i Python, men kort kan sägas att alla objekt i Python har en klass. Dunder-metoder, *Double underscore*-metoder eller magiska metoder kanske du har sett några redan. Det som är kännetecknande är att metodnamnet omges av just två underscores på var sida: \\_\\_float__ eller \\_\\_bool__ är två exempel. Dunder-metoder är inte tänkta att användas direkt, utan används internt av en klass. När du skriver `1+1` kommer t ex metoden \\_\\_add__ att användas internt av klassen `int`. För att se alla metoder (inklusive dunder-metoder) som tillhör en klass skriver man `dir(`[klass]`)`."
   ]
  },
  {
   "cell_type": "code",
   "execution_count": null,
   "metadata": {},
   "outputs": [],
   "source": [
    "# För att se alla metoder som finns tillgängliga för string-klassen kan vi ange klassnamnet.\n",
    "dir(str)"
   ]
  },
  {
   "cell_type": "code",
   "execution_count": null,
   "metadata": {},
   "outputs": [],
   "source": [
    "# Vi kan även ange ett objekt av en viss typ.\n",
    "dir(\"en_sträng\")"
   ]
  },
  {
   "cell_type": "markdown",
   "metadata": {},
   "source": [
    "Vi kan självklart använda metoden direkt:"
   ]
  },
  {
   "cell_type": "code",
   "execution_count": null,
   "metadata": {},
   "outputs": [],
   "source": [
    "\"en\".__add__(\"_sträng\")"
   ]
  },
  {
   "cell_type": "markdown",
   "metadata": {},
   "source": [
    "Men operatorn `+` funkar bättre i det här fallet :)"
   ]
  },
  {
   "cell_type": "markdown",
   "metadata": {},
   "source": [
    "## Klasser\n",
    "Med klasser kan vi t ex definiera nya objekttyper, t ex för att modellera nya komplexa fenomen i världen som inte en sträng, lista etc kan hantera.\n",
    "\n",
    "Till skillnad från funktioner och all annan namngivning i Python följer klasser PascalCase-konventionen: Inledande versal och versal för varje nytt ord, EnNyKlass.\n",
    "\n",
    "Här nedanför ser du ett exempel på en enkel definition av en klass `Human`. Vi anger klassnamnet och börjar sedan med att lägga till en \\_\\_init__-metod som beskriver hur ett objekt av en viss klass ska initieras. Notera den första parametern `self` (det här är ytterligare en namngivningskonvention) som visar hur objektet ska referera till sig självt i sina metoder. Därefter definierar vi att objektet ska få vissa attribut (`self.name`, `self.hunger`, `self.thirst`) som vi hämtar från parametrarna (`name`, `hunger`, `thirst`) som anges när vi instantierar objektet . Slutligen lägger vi till några klassmetoder (`say_name`, `eat_a_thing`, `drink_water`)."
   ]
  },
  {
   "cell_type": "code",
   "execution_count": null,
   "metadata": {},
   "outputs": [],
   "source": [
    "class Human:\n",
    "    # Vår \"constructor\" som hjälper oss skapa ett objekt av typen Human med önskade parametrar\n",
    "    # hunger och thirst har default-argument\n",
    "    def __init__(self, name, hunger = 5, thirst = 5):\n",
    "        self.name = name\n",
    "        self.hunger = hunger\n",
    "        self.thirst = thirst\n",
    "    \n",
    "    # Metoder som tillhör klassen Human\n",
    "    def say_name(self):\n",
    "        print(f\"My name is {self.name}\")\n",
    "\n",
    "    def eat_a_thing(self):\n",
    "        self.hunger -= 1\n",
    "\n",
    "    def drink_water(self):\n",
    "        self.thirst -= 1"
   ]
  },
  {
   "cell_type": "markdown",
   "metadata": {},
   "source": [
    "Vi instantierar eller skapar ett objekt av typ `Human` nedan och ger objektet namnet `person1`. Vi måste ge vår människa ett namn då det inte finns något default-värde."
   ]
  },
  {
   "cell_type": "code",
   "execution_count": null,
   "metadata": {},
   "outputs": [],
   "source": [
    "person1 = Human(name=\"Henrik\")\n",
    "print(person1.name)"
   ]
  },
  {
   "cell_type": "markdown",
   "metadata": {},
   "source": [
    "Vi kan också få människan att säga sitt namn genom att kalla på klassmetoden `say_name`."
   ]
  },
  {
   "cell_type": "code",
   "execution_count": null,
   "metadata": {},
   "outputs": [],
   "source": [
    "person1.say_name()"
   ]
  },
  {
   "cell_type": "markdown",
   "metadata": {},
   "source": [
    "Hur hungrig är personen?"
   ]
  },
  {
   "cell_type": "code",
   "execution_count": null,
   "metadata": {},
   "outputs": [],
   "source": [
    "person1.hunger"
   ]
  },
  {
   "cell_type": "markdown",
   "metadata": {},
   "source": [
    "Lite hungrig ändå, vi säger åt personen att äta någonting och kontrollerar hur det står till med hungern efteråt:"
   ]
  },
  {
   "cell_type": "code",
   "execution_count": null,
   "metadata": {},
   "outputs": [],
   "source": [
    "person1.eat_a_thing()\n",
    "person1.hunger"
   ]
  },
  {
   "cell_type": "markdown",
   "metadata": {},
   "source": [
    "### Inheritance\n",
    "\n",
    "En klass kan ärva metoder och egenskaper från en annan klass genom att ange superklassen i definitionen av subklassen, som här nedan där en konsult är en människa och kan göra samma saker som en människa (men med några extra metoder som är specifika för konsulten)."
   ]
  },
  {
   "cell_type": "code",
   "execution_count": null,
   "metadata": {},
   "outputs": [],
   "source": [
    "class Konsult(Human):\n",
    "    def __init__(self, name, work_amount=0):\n",
    "\n",
    "        # Vi måste initiera superklassen\n",
    "        super().__init__(name)\n",
    "\n",
    "        # Alternativ till att initiera med super() är att ange superklassens namn \n",
    "        #Human.__init__(self, name, hunger=5, thirst=5)\n",
    "        \n",
    "        self.work_amount = work_amount\n",
    "\n",
    "    def do_work(self, amount=1):\n",
    "        self.work_amount += amount\n",
    "\n",
    "# Instatiera en ny konsult\n",
    "konsult1 = Konsult(name=\"Sofie\", work_amount=0)\n",
    "\n",
    "# Konsulten har inte arbetat än\n",
    "print(konsult1.work_amount)\n",
    "\n",
    "# Konsulten arbetar hårt\n",
    "konsult1.do_work(10)\n",
    "print(konsult1.work_amount)\n",
    "\n",
    "# Konsulten kan också, precis som en människa, vara hungrig\n",
    "print(konsult1.hunger)\n",
    "\n",
    "# Och säga sitt namn!\n",
    "konsult1.say_name()"
   ]
  },
  {
   "cell_type": "code",
   "execution_count": null,
   "metadata": {},
   "outputs": [],
   "source": [
    "konsult2 = Konsult(name = \"Oskar\")\n",
    "konsult2.eat_a_thing()\n",
    "konsult2.hunger"
   ]
  },
  {
   "cell_type": "code",
   "execution_count": null,
   "metadata": {},
   "outputs": [],
   "source": [
    "konsult2.hunger = 100\n",
    "konsult2.hunger"
   ]
  },
  {
   "cell_type": "markdown",
   "metadata": {},
   "source": [
    "Längst ner i listan av metoder för typen `Konsult` hittar vi våra fyra klassmetoder vi skapat."
   ]
  },
  {
   "cell_type": "code",
   "execution_count": null,
   "metadata": {},
   "outputs": [],
   "source": [
    "dir(Konsult)[-4:]"
   ]
  },
  {
   "cell_type": "markdown",
   "metadata": {},
   "source": [
    "## Laborationsövningar"
   ]
  },
  {
   "cell_type": "markdown",
   "metadata": {},
   "source": [
    "Skriv ett uttryck som skriver ut ordet \"kakaopulver\" sjutton gånger i följd. Resultatet borde se ut så här: `kakaopulverkakaopulver[...]kakaopulver`."
   ]
  },
  {
   "cell_type": "code",
   "execution_count": 26,
   "metadata": {},
   "outputs": [
    {
     "name": "stdout",
     "output_type": "stream",
     "text": [
      "kakaopulverkakaopulverkakaopulverkakaopulverkakaopulverkakaopulverkakaopulverkakaopulverkakaopulverkakaopulverkakaopulverkakaopulverkakaopulverkakaopulverkakaopulverkakaopulverkakaopulver\n"
     ]
    }
   ],
   "source": [
    "# Din kod här\n",
    "print(\"kakaopulver\"*17)"
   ]
  },
  {
   "cell_type": "markdown",
   "metadata": {},
   "source": [
    "Hur många tecken innehåller strängen?"
   ]
  },
  {
   "cell_type": "code",
   "execution_count": null,
   "metadata": {},
   "outputs": [],
   "source": [
    "# Din kod här\n",
    "len(\"kakaopulver\"*17)"
   ]
  },
  {
   "cell_type": "code",
   "execution_count": null,
   "metadata": {},
   "outputs": [],
   "source": [
    "# HINT (dubbelklicka här)\n",
    "# Det går alldeles utmärkt att googla efter t ex \"length of string in python\""
   ]
  },
  {
   "cell_type": "markdown",
   "metadata": {},
   "source": [
    "En sträng, `\"kakaopulver\"` består av enskilda ordnade element som sammanfogats. Det innebär att vi kan indexera strängar på samma sätt som listor, med hakklamrar []. Skriv ut \"kakaopulver\" baklänges genom att använda använda en indexeringsmetod."
   ]
  },
  {
   "cell_type": "code",
   "execution_count": null,
   "metadata": {},
   "outputs": [],
   "source": [
    "# Skriv ut kakaopulver baklänges genom att lägga till rätt indexering i hakklamrarna nedan\n",
    "\"kakaopulver\"[]"
   ]
  },
  {
   "cell_type": "markdown",
   "metadata": {},
   "source": [
    "---\n",
    "Dela upp följande mening i en lista med enskilda ord genom att använda en sträng-metod: `\"The quick brown fox jumps over the lazy dog\"`"
   ]
  },
  {
   "cell_type": "code",
   "execution_count": 30,
   "metadata": {},
   "outputs": [
    {
     "data": {
      "text/plain": [
       "['The', 'quick', 'brown', 'fox', 'jumps', 'over', 'the', 'lazy', 'dog']"
      ]
     },
     "execution_count": 30,
     "metadata": {},
     "output_type": "execute_result"
    }
   ],
   "source": [
    "# Din kod här\n",
    "\"The quick brown fox jumps over the lazy dog\".split()"
   ]
  },
  {
   "cell_type": "code",
   "execution_count": 31,
   "metadata": {},
   "outputs": [
    {
     "data": {
      "text/plain": [
       "['The', 'quick', 'brown', 'fox', 'jumps', 'over', 'the', 'lazy', 'dog']"
      ]
     },
     "execution_count": 31,
     "metadata": {},
     "output_type": "execute_result"
    }
   ],
   "source": [
    "# Dela nu upp den här strängen i en lista\n",
    "\"The_quick_brown_fox_jumps_over_the_lazy_dog\"\n",
    "\n",
    "# Din kod här\n",
    "\"The_quick_brown_fox_jumps_over_the_lazy_dog\".split(\"_\")"
   ]
  },
  {
   "cell_type": "markdown",
   "metadata": {},
   "source": [
    "---\n",
    "Skriv en for-loop som skriver ut namnen på städerna i listan nedan om de innehåller ett \"ö\"."
   ]
  },
  {
   "cell_type": "code",
   "execution_count": 6,
   "metadata": {},
   "outputs": [],
   "source": [
    "cities = [\"stockholm\", \"malmö\", \"göteborg\", \"linköping\", \"norrköping\", \"västerås\"]"
   ]
  },
  {
   "cell_type": "code",
   "execution_count": 7,
   "metadata": {},
   "outputs": [
    {
     "name": "stdout",
     "output_type": "stream",
     "text": [
      "malmö\n",
      "göteborg\n",
      "linköping\n",
      "norrköping\n"
     ]
    }
   ],
   "source": [
    "# Din kod här\n",
    "for city in cities:\n",
    "    if \"ö\" in city:\n",
    "        print(city)"
   ]
  },
  {
   "cell_type": "markdown",
   "metadata": {},
   "source": [
    "Skriv nu en for-loop som skriver ut hur många bokstäver det är i varje stadsnamn samt namnet på staden. Första bokstaven i stadens namn ska vara en versal och namnet ska omges av citattecken. Resultatet bör se ut så här: \n",
    "\n",
    "I \"Stockholm\" finns det 9 bokstäver\n",
    "\n",
    "I \"Malmö\" finns det 5 bokstäver\n",
    "\n",
    "I \"Göteborg\" finns det 8 bokstäver\n",
    "\n",
    "I \"Linköping\" finns det 9 bokstäver\n",
    "\n",
    "I \"Norrköping\" finns det 10 bokstäver\n",
    "\n",
    "I \"Västerås\" finns det 8 bokstäver"
   ]
  },
  {
   "cell_type": "code",
   "execution_count": 8,
   "metadata": {},
   "outputs": [
    {
     "name": "stdout",
     "output_type": "stream",
     "text": [
      "I \"Stockholm\" finns det 9 bokstäver\n",
      "I \"Malmö\" finns det 5 bokstäver\n",
      "I \"Göteborg\" finns det 8 bokstäver\n",
      "I \"Linköping\" finns det 9 bokstäver\n",
      "I \"Norrköping\" finns det 10 bokstäver\n",
      "I \"Västerås\" finns det 8 bokstäver\n"
     ]
    }
   ],
   "source": [
    "# Din kod här:\n",
    "for city in cities:\n",
    "    print(f\"I \\\"{city.capitalize()}\\\" finns det {len(city)} bokstäver\")"
   ]
  },
  {
   "cell_type": "code",
   "execution_count": 32,
   "metadata": {},
   "outputs": [],
   "source": [
    "# HINT\n",
    "# Här krävs det att du använder en formaterad sträng."
   ]
  },
  {
   "cell_type": "markdown",
   "metadata": {},
   "source": [
    "---\n",
    "Här nedanför ser du en oändlig while-loop. **Kör den inte än**. Lägg istället till en konstruktion som gör att den skriver ut \"Klar!\" och avbryts när k är 10."
   ]
  },
  {
   "cell_type": "code",
   "execution_count": null,
   "metadata": {},
   "outputs": [],
   "source": [
    "k = 0\n",
    "\n",
    "while True:\n",
    "    k += 1"
   ]
  },
  {
   "cell_type": "code",
   "execution_count": 36,
   "metadata": {},
   "outputs": [
    {
     "name": "stdout",
     "output_type": "stream",
     "text": [
      "Klar!\n"
     ]
    }
   ],
   "source": [
    "# Lösningsförslag\n",
    "k = 0\n",
    "\n",
    "while True:\n",
    "    k += 1\n",
    "    if k == 10:\n",
    "        print(\"Klar!\")\n",
    "        break"
   ]
  },
  {
   "cell_type": "markdown",
   "metadata": {},
   "source": [
    "---\n",
    "Skriv en funktion `odd_or_even` med en parameter som skriver ut om det angivna värdet på parametern är jämnt eller udda."
   ]
  },
  {
   "cell_type": "code",
   "execution_count": null,
   "metadata": {},
   "outputs": [],
   "source": [
    "# Din kod här\n",
    "def odd_or_even(n):\n",
    "    if n % 2 == 0:\n",
    "        print(\"Talet är jämnt!\")\n",
    "    else:\n",
    "        print(\"Talet är udda!\")"
   ]
  },
  {
   "cell_type": "code",
   "execution_count": null,
   "metadata": {},
   "outputs": [],
   "source": [
    "# HINT\n",
    "# Modulus-operatorn är väldigt användbar här. a % b visar vilken rest (om någon) som man får vid division av a och b.as_integer_ratio"
   ]
  },
  {
   "cell_type": "code",
   "execution_count": null,
   "metadata": {},
   "outputs": [],
   "source": [
    "# Testa din funktion här\n",
    "odd_or_even(1) # Bör skriva ut att värdet är udda\n",
    "odd_or_even(6) # Bör skriva ut att värdet är jämnt"
   ]
  },
  {
   "cell_type": "markdown",
   "metadata": {},
   "source": [
    "---\n",
    "Skriv en lambdafunktion med namn `printif` med en parameter `x`. Funktionen ska skriva ut *\"Vilket stort tal!\"* om värdet är **större** än 10, annars ska strängen *\"`x` är ett lågt tal\"* (där `x` är parameterns värde) skrivas ut. Du kan förutsätta att input till funktionen är numerisk."
   ]
  },
  {
   "cell_type": "code",
   "execution_count": null,
   "metadata": {},
   "outputs": [],
   "source": [
    "# Din funktion här\n",
    "printif = lambda x: print(f\"{x} är ett lågt tal\") if x <= 10 else print(\"Vilket stort tal!\")\n"
   ]
  },
  {
   "cell_type": "code",
   "execution_count": 37,
   "metadata": {},
   "outputs": [],
   "source": [
    "# HINT\n",
    "# Ett ternärt uttryck kan komma till nytta..."
   ]
  },
  {
   "cell_type": "code",
   "execution_count": null,
   "metadata": {},
   "outputs": [],
   "source": [
    "# Testa din kod här.\n",
    "# Första resultatraden borde vara: 10 är ett lågt tal\n",
    "# Andra raden borde vara: Vilket stort tal!\n",
    "\n",
    "printif(10)\n",
    "printif(20)"
   ]
  },
  {
   "cell_type": "markdown",
   "metadata": {},
   "source": [
    "Testa att köra cellen nedan. Vad blir det för fel? Varför?"
   ]
  },
  {
   "cell_type": "code",
   "execution_count": null,
   "metadata": {},
   "outputs": [],
   "source": [
    "printif(\"två\")"
   ]
  },
  {
   "cell_type": "markdown",
   "metadata": {},
   "source": [
    "Definiera nu en funktion som heter `printer` utan några parametrar. Funktionen ska:\n",
    "1. Låta användaren skriva in en valfri `input`.\n",
    "1. Använda användarens input som argument till `printif`-funktionen\n",
    "1. Innehålla minst ett `try-except`-block som försöker hantera uppkomna fel\n",
    "\n",
    "Obs! `input()` returnerar en sträng, alltså behöver input-värdet konverteras. Om konverteringen misslyckas bör användaren informeras om att endast numeriska värden får anges."
   ]
  },
  {
   "cell_type": "code",
   "execution_count": null,
   "metadata": {},
   "outputs": [],
   "source": [
    "# Din funktion här:\n",
    "def printer():\n",
    "    x = input()\n",
    "    try:\n",
    "        printif(int(x))\n",
    "    except ValueError:\n",
    "        print(\"Conversion of input to int failed, only use numeric inputs please.\")"
   ]
  },
  {
   "cell_type": "code",
   "execution_count": null,
   "metadata": {},
   "outputs": [],
   "source": [
    "# Testa din funktion genom att ange några olika värden: 1, \"one\", [1], 0b10000.\n",
    "printer()"
   ]
  },
  {
   "cell_type": "code",
   "execution_count": null,
   "metadata": {
    "tags": []
   },
   "outputs": [],
   "source": [
    "# HINT 1\n",
    "# Typkonverteringen görs med int()"
   ]
  },
  {
   "cell_type": "code",
   "execution_count": null,
   "metadata": {
    "tags": []
   },
   "outputs": [],
   "source": [
    "# HINT 2\n",
    "# Du kan göra konverteringen i ett try-block"
   ]
  },
  {
   "cell_type": "markdown",
   "metadata": {},
   "source": [
    "---\n",
    "Använd ternära uttryck för att kolla om två objekt är lika. Skriv ut \"It's a match\" om `a` och `b` är lika, annars \"No match\"."
   ]
  },
  {
   "cell_type": "code",
   "execution_count": 2,
   "metadata": {},
   "outputs": [
    {
     "data": {
      "text/plain": [
       "'No match'"
      ]
     },
     "execution_count": 2,
     "metadata": {},
     "output_type": "execute_result"
    }
   ],
   "source": [
    "a = 724379872437987243798724379872437987243798724379872437987243798724379872437987243798724379872437982743798\n",
    "b = 724379872437987243798724379872437987243798724379872437987243798724379872437987243798724379872437987243798\n",
    "\n",
    "# Din kod här\n",
    "\"It's a match\" if a == b else \"No match\""
   ]
  },
  {
   "cell_type": "markdown",
   "metadata": {},
   "source": [
    "---\n",
    "Nu ska vi kasta tärning! \n",
    "\n",
    "1. Skapa en funktion `tärning` som representerar ett kast med en 6-sidig tärning, dvs. den ska returnera ett slumptal mellan 1 och 6. \n",
    "2. Skapa ytterligare en funktion `räkna_kast` som ska kalla på funktionen `tärning` och returnera antalet tärningskast som krävs för att få en etta. Tips: använd en while-loop i `räkna_kast`. \n",
    "\n",
    "Kalla på funktionen `tärning` från funktionen `räkna_kast`. \n",
    "\n",
    "**HINT:**\n",
    "För att generera slumptal kan du importera modulen `random` genom att skriva följande i en cell: `import random`\n",
    "\n",
    "Slumptal kan sen genereras med funktionen `random.randint([lägre_gräns], [övre_gräns])`."
   ]
  },
  {
   "cell_type": "code",
   "execution_count": 3,
   "metadata": {},
   "outputs": [],
   "source": [
    "# Din kod här\n",
    "import random\n",
    "\n",
    "def tärning():\n",
    "    return random.randint(1, 6)\n",
    "\n",
    "\n",
    "def räkna_kast(func):\n",
    "    antal_kast = 1\n",
    "    while func() != 1:\n",
    "        antal_kast += 1\n",
    "    return antal_kast"
   ]
  },
  {
   "cell_type": "code",
   "execution_count": 5,
   "metadata": {},
   "outputs": [
    {
     "name": "stdout",
     "output_type": "stream",
     "text": [
      "3\n"
     ]
    }
   ],
   "source": [
    "# Testa din funktion här\n",
    "print(räkna_kast(tärning))"
   ]
  },
  {
   "cell_type": "markdown",
   "metadata": {},
   "source": [
    "---\n",
    "RPA-teamet utvecklar smarta robotar. Den smarta roboten Roger ska identifiera vilka system som behöver underhåll eller har kraschat. Listan `system` symboliserar en rad olika system, där varje objekt antar värdet \"Grön\", \"Gul\" eller \"Röd\" som representerar statusen på ett system. Skriv en funktion `hitta_fel` som tar en `färgkod` och en `lista` som parametrar, som ska printa alla index i listan för `färgkod`. Till exempel för färgkoden \"Gul\" så ska funktionen `hitta_fel` printa följande: Robot Roger har identifierat kod 'Gul' på position [0, 2, 4, 15]\n",
    "\n",
    "Använd en for-loop och flödeskontroll. Om du vill får du gärna testa att använda en list comprehension istället för en foor-loop. "
   ]
  },
  {
   "cell_type": "code",
   "execution_count": null,
   "metadata": {},
   "outputs": [],
   "source": [
    "# Kör den här cellen\n",
    "system = [\"Gul\", \"Grön\", \"Gul\", \"Grön\", \"Gul\", \"Röd\", \"Grön\", \"Röd\", \"Grön\",\n",
    "          \"Grön\", \"Grön\", \"Grön\", \"Grön\", \"Röd\", \"Röd\", \"Gul\", \"Grön\", \"Grön\", \"Grön\"]"
   ]
  },
  {
   "cell_type": "code",
   "execution_count": 6,
   "metadata": {},
   "outputs": [],
   "source": [
    "# Din kod här\n",
    "def hitta_index(färgkod, lista):\n",
    "    index = list() \n",
    "    lista_längd = len(lista)\n",
    "    # List comprehension\n",
    "    # index = [i for i in range(lista_längd) if lista[i] == x]\n",
    "    for i in range(lista_längd):\n",
    "        if lista[i] == färgkod:\n",
    "            index.append(i)\n",
    "\n",
    "    print(f\"Robot Roger har identifierat kod '{färgkod}' på position {index}\")\n"
   ]
  },
  {
   "cell_type": "code",
   "execution_count": 7,
   "metadata": {},
   "outputs": [
    {
     "name": "stdout",
     "output_type": "stream",
     "text": [
      "Robot Roger har identifierat kod 'Gul' på position [0, 2, 4, 15]\n",
      "Robot Roger har identifierat kod 'Röd' på position [5, 7, 13, 14]\n"
     ]
    }
   ],
   "source": [
    "# Testa din funktion här\n",
    "\n",
    "# Se vilka system som behöver underhåll\n",
    "hitta_index(färgkod=\"Gul\", lista=system)\n",
    "\n",
    "# Se vilka system som har kraschat\n",
    "hitta_index(färgkod=\"Röd\", lista=system)\n"
   ]
  },
  {
   "cell_type": "markdown",
   "metadata": {},
   "source": [
    "---\n",
    "Christer kör ofta bil till kontoret. Under resan noterar han alla epa-traktorer han ser och lägger i en lista. Han lägger även till alla motorcyklar, giraffer och gula bilar i listan.\n",
    "\n",
    "En morgon fick Christer följande lista:"
   ]
  },
  {
   "cell_type": "code",
   "execution_count": 11,
   "metadata": {},
   "outputs": [],
   "source": [
    "christers_morgonlista = [\"motorcykel\", \"gul bil\", \"epa\", \"gul bil\", \"gul bil\", \"gul bil\", \"giraff\",\n",
    "                         \"gul bil\", \"epa\", \"epa\", \"epa\", \"motorcykel\", \"epa\", \"epa\", \"gul bil\", \"epa\", \"epa\", \"epa\", \"epa\", \"motorcykel\", \"epa\", \"epa\"]\n"
   ]
  },
  {
   "cell_type": "markdown",
   "metadata": {},
   "source": [
    "Hjälp Christer att skapa en dictionary `epa_dict` som innehåller antalet av varje objekt i `christers_morgonlista`."
   ]
  },
  {
   "cell_type": "code",
   "execution_count": 11,
   "metadata": {},
   "outputs": [
    {
     "name": "stdout",
     "output_type": "stream",
     "text": [
      "{'motorcykel': 3, 'gul bil': 6, 'epa': 12, 'giraff': 1}\n"
     ]
    }
   ],
   "source": [
    "# Din kod här\n",
    "epa_dict = {}\n",
    "\n",
    "for epa in range(len(christers_morgonlista)):\n",
    "    epa_dict[christers_morgonlista[epa]] = christers_morgonlista.count(christers_morgonlista[epa])\n",
    "\n",
    "print(epa_dict)"
   ]
  },
  {
   "cell_type": "markdown",
   "metadata": {},
   "source": [
    "En korrekt skriven dictionary ska innehålla följande: {'motorcykel': 3, 'gul bil': 6, 'giraff': 1, 'epa': 12}"
   ]
  },
  {
   "cell_type": "code",
   "execution_count": 22,
   "metadata": {},
   "outputs": [
    {
     "data": {
      "text/plain": [
       "3"
      ]
     },
     "execution_count": 22,
     "metadata": {},
     "output_type": "execute_result"
    }
   ],
   "source": [
    "# HINT\n",
    "christers_morgonlista.count(\"motorcykel\")"
   ]
  },
  {
   "cell_type": "code",
   "execution_count": 16,
   "metadata": {},
   "outputs": [
    {
     "name": "stdout",
     "output_type": "stream",
     "text": [
      "{'gul bil': 6, 'motorcykel': 3, 'giraff': 1, 'epa': 12}\n"
     ]
    }
   ],
   "source": [
    "# Lösningsförslag 2: använd set\n",
    "epa_dict = {}\n",
    "\n",
    "for item in set(christers_morgonlista):\n",
    "    epa_dict[item] = christers_morgonlista.count(item)\n",
    "\n",
    "print(epa_dict)"
   ]
  },
  {
   "cell_type": "code",
   "execution_count": 21,
   "metadata": {},
   "outputs": [
    {
     "data": {
      "text/plain": [
       "{'gul bil': 6, 'motorcykel': 3, 'giraff': 1, 'epa': 12}"
      ]
     },
     "execution_count": 21,
     "metadata": {},
     "output_type": "execute_result"
    }
   ],
   "source": [
    "# Lösningsförslag 3: dictionary comprehension\n",
    "epa_dict = {item: christers_morgonlista.count(item) for item in set(christers_morgonlista)}\n",
    "epa_dict"
   ]
  },
  {
   "cell_type": "markdown",
   "metadata": {},
   "source": [
    "Definera en funktion `printa_dict` som tar en dictionary som parameter. Funktionen ska skriva ut samtliga nycklar och värden genom att loopa igenom `epa_dict`. Använd formaterade strängar. Nyckeln \"epa\" ska skrivas ut med versaler. Resultatet bör se ut enligt följande:\n",
    "\n",
    "\n",
    "motorcykel: 3\n",
    "\n",
    "gul bil: 6\n",
    "\n",
    "giraff: 1\n",
    "\n",
    "EPA: 12"
   ]
  },
  {
   "cell_type": "code",
   "execution_count": 13,
   "metadata": {},
   "outputs": [],
   "source": [
    "# Din kod här\n",
    "\n",
    "def printa_dict(d):\n",
    "    for objekt, antal in d.items():\n",
    "        if \"epa\" in objekt:\n",
    "            print(f\"{objekt}: {antal}\".upper())\n",
    "        else:\n",
    "            print(f\"{objekt}: {antal}\")\n"
   ]
  },
  {
   "cell_type": "code",
   "execution_count": 14,
   "metadata": {},
   "outputs": [
    {
     "name": "stdout",
     "output_type": "stream",
     "text": [
      "motorcykel: 3\n",
      "gul bil: 6\n",
      "EPA: 12\n",
      "giraff: 1\n"
     ]
    }
   ],
   "source": [
    "# Testa din funktion här\n",
    "printa_dict(epa_dict)"
   ]
  },
  {
   "cell_type": "markdown",
   "metadata": {},
   "source": [
    "(Överkurs) Sortera nycklarna i `epa_dict` efter dess värden (i fallande ordning) och spara som `sortera_epa_dict`. Detta genom att kombinera en dictionary comprehension med en lambdafunktion. "
   ]
  },
  {
   "cell_type": "code",
   "execution_count": 15,
   "metadata": {},
   "outputs": [
    {
     "name": "stdout",
     "output_type": "stream",
     "text": [
      "dict_items([('epa', 12), ('gul bil', 6), ('motorcykel', 3), ('giraff', 1)])\n"
     ]
    }
   ],
   "source": [
    "# Din kod här:\n",
    "sortera_epa_dict = {key: antal for (key, antal) in sorted(epa_dict.items(), key=lambda x: x[1], reverse=True)}\n",
    "print(sortera_epa_dict.items())"
   ]
  },
  {
   "cell_type": "code",
   "execution_count": null,
   "metadata": {},
   "outputs": [],
   "source": [
    "# HINT \n",
    "# Du kan använda dig av funktionen sorted()"
   ]
  },
  {
   "cell_type": "code",
   "execution_count": 16,
   "metadata": {},
   "outputs": [
    {
     "name": "stdout",
     "output_type": "stream",
     "text": [
      "EPA: 12\n",
      "gul bil: 6\n",
      "motorcykel: 3\n",
      "giraff: 1\n"
     ]
    }
   ],
   "source": [
    "# Titta på din sorterade dictionary här\n",
    "printa_dict(sortera_epa_dict)"
   ]
  },
  {
   "cell_type": "markdown",
   "metadata": {},
   "source": [
    "---\n",
    "Vi älskar burgare! Definera en klass med klassnamnet `Burgare`. Klassen ska ha:\n",
    "\n",
    "1. En konstruktor\n",
    "2. Attributen gram, topping och vegetarisk. Gram är en integer (default `90`), topping är en lista med godsaker (default `[\"ost\"]`, vegetarisk kan anta de booleska värdena `True` eller `False`)\n",
    "3. Metod `pris` som tillhör klassen Burgare som ska räkna ut priset för en burgare.\n",
    "\n",
    "\n",
    "Metoden pris ska göra följande:\n",
    "* Ta en rabattkupong som parameter\n",
    "* Burgare som är mindre än 120 gram kostar 120 kronor. Övriga kostar 150 kronor.\n",
    "* Varje topping kostar 15 kronor\n",
    "* Vegetariskt alternativ kostar 20 kronor mindre än icke-vegetariskt alternativ."
   ]
  },
  {
   "cell_type": "code",
   "execution_count": 23,
   "metadata": {},
   "outputs": [],
   "source": [
    "# Din kod här\n",
    "class Burgare:\n",
    "    \"\"\"Modellerar en burgare\"\"\"\n",
    "\n",
    "    # Konstructor\n",
    "    def __init__(self, gram = 90, topping = [\"ost\"], vegetarisk = False):\n",
    "        \"\"\"Konstruktor\"\"\"\n",
    "        self.gram = gram\n",
    "        self.topping = topping\n",
    "        self.vegetarisk = vegetarisk\n",
    "\n",
    "    # Methods\n",
    "    def pris(self, rabattkupong):\n",
    "        \"\"\"Beräkna pris för burgare\"\"\"\n",
    "        total = 0\n",
    "        if self.gram < 120:\n",
    "            total += 120\n",
    "        else:\n",
    "            total += 150\n",
    "\n",
    "        total += len(self.topping) * 15\n",
    "\n",
    "        if self.vegetarisk:\n",
    "            total -= 20\n",
    "\n",
    "        total *= 1 - rabattkupong \n",
    "        return total"
   ]
  },
  {
   "cell_type": "code",
   "execution_count": 24,
   "metadata": {},
   "outputs": [
    {
     "name": "stdout",
     "output_type": "stream",
     "text": [
      "Pris för en burgare med 0% rabatt: 210 kronor\n",
      "Pris för en burgare med 25% rabatt: 157.5 kronor\n",
      "Pris för en vegetarisk burgare med 0% rabatt: 145 kronor\n",
      "Pris för en vegetarisk burgare med 25% rabatt: 108.75 kronor\n"
     ]
    }
   ],
   "source": [
    "# Testa din funktion här:\n",
    "ingen_rabatt = 0\n",
    "rabatt25 = 0.25\n",
    "\n",
    "en_burgare = Burgare(gram = 150, topping = [\"ost\", \"sallad\", \"lök\", \"dressing\"], vegetarisk = False)\n",
    "en_veg_burgare = Burgare(gram = 90, topping = [\"ost\", \"tomat\", \"dressing\"], vegetarisk = True)\n",
    "\n",
    "print(f\"Pris för en burgare med {ingen_rabatt}% rabatt: {en_burgare.pris(ingen_rabatt)} kronor\") \n",
    "print(f\"Pris för en burgare med {int(rabatt25*100)}% rabatt: {en_burgare.pris(rabatt25)} kronor\") \n",
    "\n",
    "print(f\"Pris för en vegetarisk burgare med {ingen_rabatt}% rabatt: {en_veg_burgare.pris(ingen_rabatt)} kronor\") \n",
    "print(f\"Pris för en vegetarisk burgare med {int(rabatt25*100)}% rabatt: {en_veg_burgare.pris(rabatt25)} kronor\") "
   ]
  },
  {
   "cell_type": "markdown",
   "metadata": {},
   "source": [
    "**Koden ovan ska returnera följande:**\n",
    "\n",
    "- Pris för en burgare med 0% rabatt: 210 kronor\n",
    "- Pris för en burgare med 25% rabatt: 157.5 kronor\n",
    "- Pris för en vegetarisk burgare med 0% rabatt: 145 kronor\n",
    "- Pris för en vegetarisk burgare med 25% rabatt: 108.75 kronor"
   ]
  },
  {
   "cell_type": "markdown",
   "metadata": {},
   "source": [
    "## numpy och pandas"
   ]
  },
  {
   "cell_type": "markdown",
   "metadata": {},
   "source": []
  }
 ],
 "metadata": {
  "kernelspec": {
   "display_name": "Python 3.11.0 ('.venv': venv)",
   "language": "python",
   "name": "python3"
  },
  "language_info": {
   "codemirror_mode": {
    "name": "ipython",
    "version": 3
   },
   "file_extension": ".py",
   "mimetype": "text/x-python",
   "name": "python",
   "nbconvert_exporter": "python",
   "pygments_lexer": "ipython3",
   "version": "3.11.0"
  },
  "orig_nbformat": 4,
  "vscode": {
   "interpreter": {
    "hash": "4cc145e4d2ab97f30f4677a0ee85f87459067b50a11a899f97eb3bc4f47de9f5"
   }
  }
 },
 "nbformat": 4,
 "nbformat_minor": 2
}
