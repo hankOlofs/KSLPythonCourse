{
 "cells": [
  {
   "cell_type": "markdown",
   "metadata": {},
   "source": [
    "# Introduktion till Python\n",
    "\n",
    "Välkommen till den här kursen i Python, mer specifikt Python3! Målet är att ge en första inblick i hur Python fungerar.\n",
    "\n",
    "I kursen kommer vi använda Visual Studio Code (VS Code) som utvecklingsmiljö (IDE). Instruktioner för installationen har getts separat. Obs! Se till att en notebook-extension har installerats (bör komma en popup längst ner till höger när du öppnar den här notebooken).\n",
    "\n",
    "### Python notebooks\n",
    "Materialet är byggt i en notebook (du läser i den just nu!). I en notebook kan vi dels skriva och formattera text (markdown), dels skriva och köra Python-kod interaktivt. Kod i en notebook körs i den ordning du kör cellerna, vilket ger stora möjligheter att experimentera fram och tillbaka. Det kan dock få oväntade konsekvenser om man kör en cell i \"fel\" ordning och råkar ändra ett objekt på ett oväntat sätt...\n",
    "\n",
    "### Tips\n",
    "- För att köra kod i en cell, tryck shift + enter (markören flyttar sig då till nästa cell). \n",
    "- Google är din vän, så gott som alla problem går att lösa genom en bra sökning.\n",
    "- För att få mer information om ett objekt, använd funktionen `help(`objekt`)`\n",
    "- Python indexerar från **noll**\n",
    "\n",
    "### Kännetecken\n",
    "\n",
    "Python är lätt att läsa och och det går snabbt att skriva kod. Det är dock långsamt när det ska exekveras. Det finns en rik flora av paket som utökar Pythons funktionalitet till många olika domäner.\n",
    "\n",
    "### Nu kör vi!\n",
    "\n",
    "Läs texten och kör koden i cellerna nedan. Fundera över varför resultatet blir som det blir. Det går alldeles utmärkt att skriva och testa egen kod :)\n"
   ]
  },
  {
   "cell_type": "markdown",
   "metadata": {},
   "source": [
    "### Objekttyper\n",
    "\n",
    "Vi börjar med att kolla på det mest grundläggande, objekt och objekttyper. I Python behöver vi inte deklarera någon objekttyp som i många andra språk. Istället är Python ett **dynamiskt typat** språk, där ett objekts typ beror på dess tilldelade värde när vi kör koden. Python är också ett **starkt typat** språk, vilket betyder att alla variabler och objekt har en typ och att typen spelar roll när man utför operationer på dem.\n",
    "\n",
    "Testa att köra cellerna nedan (shift + enter) och se om resultatet överensstämmer med det du förväntar dig!"
   ]
  },
  {
   "cell_type": "code",
   "execution_count": 1,
   "metadata": {},
   "outputs": [
    {
     "name": "stdout",
     "output_type": "stream",
     "text": [
      "en sträng\n"
     ]
    },
    {
     "data": {
      "text/plain": [
       "str"
      ]
     },
     "execution_count": 1,
     "metadata": {},
     "output_type": "execute_result"
    }
   ],
   "source": [
    "a_string = \"en sträng\"\n",
    "print(a_string)\n",
    "type(a_string)"
   ]
  },
  {
   "cell_type": "code",
   "execution_count": 2,
   "metadata": {},
   "outputs": [
    {
     "data": {
      "text/plain": [
       "int"
      ]
     },
     "execution_count": 2,
     "metadata": {},
     "output_type": "execute_result"
    }
   ],
   "source": [
    "an_int = 42\n",
    "type(an_int)"
   ]
  },
  {
   "cell_type": "code",
   "execution_count": 3,
   "metadata": {},
   "outputs": [
    {
     "data": {
      "text/plain": [
       "float"
      ]
     },
     "execution_count": 3,
     "metadata": {},
     "output_type": "execute_result"
    }
   ],
   "source": [
    "a_float = 42.0\n",
    "type(a_float)"
   ]
  },
  {
   "cell_type": "markdown",
   "metadata": {},
   "source": [
    "Python är som sagt starkt typat och alla objekttyper är inte kompatibla. Jämför de två fallen nedan (Obs! I första fallet får vi ett TypeError - läs felmeddelandet för mer information)."
   ]
  },
  {
   "cell_type": "code",
   "execution_count": 4,
   "metadata": {},
   "outputs": [
    {
     "ename": "TypeError",
     "evalue": "can only concatenate str (not \"int\") to str",
     "output_type": "error",
     "traceback": [
      "\u001b[1;31m---------------------------------------------------------------------------\u001b[0m",
      "\u001b[1;31mTypeError\u001b[0m                                 Traceback (most recent call last)",
      "Cell \u001b[1;32mIn [4], line 2\u001b[0m\n\u001b[0;32m      1\u001b[0m \u001b[39m# Kommer detta fungera?\u001b[39;00m\n\u001b[1;32m----> 2\u001b[0m \u001b[39m\"\u001b[39;49m\u001b[39msträng\u001b[39;49m\u001b[39m\"\u001b[39;49m \u001b[39m+\u001b[39;49m \u001b[39m123\u001b[39;49m\n",
      "\u001b[1;31mTypeError\u001b[0m: can only concatenate str (not \"int\") to str"
     ]
    }
   ],
   "source": [
    "# Kommer detta fungera?\n",
    "\"sträng\" + 123"
   ]
  },
  {
   "cell_type": "code",
   "execution_count": 5,
   "metadata": {},
   "outputs": [
    {
     "data": {
      "text/plain": [
       "133.15"
      ]
     },
     "execution_count": 5,
     "metadata": {},
     "output_type": "execute_result"
    }
   ],
   "source": [
    "# Int plus float = vadå?\n",
    "10+123.15"
   ]
  },
  {
   "cell_type": "markdown",
   "metadata": {},
   "source": [
    "Python är också dynamiskt typat, typen bestäms vid körning. Se vad som händer med variabeln `a` nedan."
   ]
  },
  {
   "cell_type": "code",
   "execution_count": 6,
   "metadata": {},
   "outputs": [
    {
     "name": "stdout",
     "output_type": "stream",
     "text": [
      "<class 'str'>\n",
      "<class 'int'>\n"
     ]
    }
   ],
   "source": [
    "a = \"sträng\"\n",
    "print(type(a))\n",
    "a = 999\n",
    "print(type(a))"
   ]
  },
  {
   "cell_type": "code",
   "execution_count": 7,
   "metadata": {},
   "outputs": [
    {
     "data": {
      "text/plain": [
       "'en sträng kan kombineras med en annan sträng'"
      ]
     },
     "execution_count": 7,
     "metadata": {},
     "output_type": "execute_result"
    }
   ],
   "source": [
    "b = \"en sträng \" + \"kan kombineras med \" + \"en annan sträng\"\n",
    "b"
   ]
  },
  {
   "cell_type": "markdown",
   "metadata": {},
   "source": [
    "Vi kan använda självinkrementering += för att addera ett värde till en variabel. Vi kan alltså skriva x += y istället för x = x + y."
   ]
  },
  {
   "cell_type": "code",
   "execution_count": 8,
   "metadata": {},
   "outputs": [
    {
     "data": {
      "text/plain": [
       "'en sträng kan kombineras med en annan sträng på det här sättet'"
      ]
     },
     "execution_count": 8,
     "metadata": {},
     "output_type": "execute_result"
    }
   ],
   "source": [
    "b += \" på det här sättet\"\n",
    "b"
   ]
  },
  {
   "cell_type": "markdown",
   "metadata": {},
   "source": [
    "Det går bra att använda enkel- eller dubbelfnuttar för strängar, men blanda inte (om du inte måste)."
   ]
  },
  {
   "cell_type": "code",
   "execution_count": 9,
   "metadata": {},
   "outputs": [
    {
     "name": "stdout",
     "output_type": "stream",
     "text": [
      "sträng med enkelfnutt\n",
      "sträng med dubbelfnutt\n",
      "en sträng 'med ett citat' i mitten\n"
     ]
    }
   ],
   "source": [
    "print('sträng med enkelfnutt')\n",
    "print(\"sträng med dubbelfnutt\")\n",
    "print(\"en sträng 'med ett citat' i mitten\")"
   ]
  },
  {
   "cell_type": "code",
   "execution_count": 10,
   "metadata": {},
   "outputs": [],
   "source": [
    "# Psst! Hej, jag är en kommentar!\n",
    "#\n",
    "# Använd ett inledande # om du vill skapa nya kommentar-kompisar till mig för att beskriva din kod.\n",
    "# Tips: Du kan kommentera eller avkommentera ett helt kodblock genom att markera det och trycka\n",
    "# Ctrl + ' (på ett svenskt tangentbord). Testa gärna här!"
   ]
  },
  {
   "cell_type": "markdown",
   "metadata": {},
   "source": [
    "### Andra objekttyper\n",
    "Nu har vi sett några objekttyper: str, int och float. Det finns några andra inbyggda typer som  du säkert känner igen från andra språk, men kanske också några nyheter. Vi går igenom några av de vanligaste här, men vill du veta mer finns det självklart [dokumentation om objekttyper](https://docs.python.org/3/library/stdtypes.html)."
   ]
  },
  {
   "cell_type": "markdown",
   "metadata": {},
   "source": [
    "Vi kikar på de fyra typerna för samlingar av objekt (*collections*). Det finns ***listor*** som anges med [hak-klamrar], elementen separeras med komma. Listor kan innehålla olika typer av objekt."
   ]
  },
  {
   "cell_type": "code",
   "execution_count": 2,
   "metadata": {},
   "outputs": [
    {
     "data": {
      "text/plain": [
       "[1, 2, 'tre']"
      ]
     },
     "execution_count": 2,
     "metadata": {},
     "output_type": "execute_result"
    }
   ],
   "source": [
    "lista = [1,2,\"tre\"]\n",
    "lista"
   ]
  },
  {
   "cell_type": "markdown",
   "metadata": {},
   "source": [
    "Listor är inte vektorer i en matematisk mening, men vi kan med paket utöka funktionaliteten till vektor- och matrisberäkningar - mer om det senare. Just nu får vi nöja oss med att när vi multiplicerar listor så upprepas listans innehåll."
   ]
  },
  {
   "cell_type": "code",
   "execution_count": 3,
   "metadata": {},
   "outputs": [
    {
     "data": {
      "text/plain": [
       "[1, 2, 'tre', 1, 2, 'tre', 1, 2, 'tre']"
      ]
     },
     "execution_count": 3,
     "metadata": {},
     "output_type": "execute_result"
    }
   ],
   "source": [
    "lista*3"
   ]
  },
  {
   "cell_type": "markdown",
   "metadata": {},
   "source": [
    "Vi kan skapa listor av listor:"
   ]
  },
  {
   "cell_type": "code",
   "execution_count": 4,
   "metadata": {},
   "outputs": [
    {
     "data": {
      "text/plain": [
       "[[1, 2, 'tre'], [1, 2, 'tre'], [1, 2, 'tre']]"
      ]
     },
     "execution_count": 4,
     "metadata": {},
     "output_type": "execute_result"
    }
   ],
   "source": [
    "[lista]*3"
   ]
  },
  {
   "cell_type": "markdown",
   "metadata": {},
   "source": [
    "Vi kan hämta ett specifikt objekt från listan genom att använda dess index (kom ihåg att vi börjar räkna index från 0):"
   ]
  },
  {
   "cell_type": "code",
   "execution_count": 5,
   "metadata": {},
   "outputs": [
    {
     "data": {
      "text/plain": [
       "'tre'"
      ]
     },
     "execution_count": 5,
     "metadata": {},
     "output_type": "execute_result"
    }
   ],
   "source": [
    "lista[2]"
   ]
  },
  {
   "cell_type": "markdown",
   "metadata": {},
   "source": [
    "Listor är *mutable*, de går alltså att ändra."
   ]
  },
  {
   "cell_type": "code",
   "execution_count": 6,
   "metadata": {},
   "outputs": [
    {
     "name": "stdout",
     "output_type": "stream",
     "text": [
      "[1, 2, 'tre']\n",
      "[1, 3, 'tre']\n"
     ]
    }
   ],
   "source": [
    "print(lista)\n",
    "lista[1] = 3\n",
    "print(lista)"
   ]
  },
  {
   "cell_type": "markdown",
   "metadata": {},
   "source": [
    "Med metoden `.append()` kan vi lägga till värden i en lista. "
   ]
  },
  {
   "cell_type": "code",
   "execution_count": 7,
   "metadata": {},
   "outputs": [
    {
     "data": {
      "text/plain": [
       "[1, 3, 'tre', 'nitton']"
      ]
     },
     "execution_count": 7,
     "metadata": {},
     "output_type": "execute_result"
    }
   ],
   "source": [
    "lista.append(\"nitton\")\n",
    "lista"
   ]
  },
  {
   "cell_type": "markdown",
   "metadata": {},
   "source": [
    "Med `.pop()` kan vi \"poppa ut\" ett element från listan och ta bort det."
   ]
  },
  {
   "cell_type": "code",
   "execution_count": 8,
   "metadata": {},
   "outputs": [
    {
     "data": {
      "text/plain": [
       "[1, 3, 'tre']"
      ]
     },
     "execution_count": 8,
     "metadata": {},
     "output_type": "execute_result"
    }
   ],
   "source": [
    "# Som default poppas det sista elementet,\n",
    "# men genom att ange ett index kan ett specifik element poppas.\n",
    "lista.pop()\n",
    "lista"
   ]
  },
  {
   "cell_type": "code",
   "execution_count": 9,
   "metadata": {},
   "outputs": [
    {
     "data": {
      "text/plain": [
       "1"
      ]
     },
     "execution_count": 9,
     "metadata": {},
     "output_type": "execute_result"
    }
   ],
   "source": [
    "# Vi kan räkna antalet element av en viss typ.\n",
    "lista.count(\"tre\")"
   ]
  },
  {
   "cell_type": "markdown",
   "metadata": {},
   "source": [
    "Vi kan också slicea ut flera värden från listan genom att ange deras index."
   ]
  },
  {
   "cell_type": "code",
   "execution_count": 10,
   "metadata": {},
   "outputs": [
    {
     "data": {
      "text/plain": [
       "[1, 3]"
      ]
     },
     "execution_count": 10,
     "metadata": {},
     "output_type": "execute_result"
    }
   ],
   "source": [
    "lista[0:2]"
   ]
  },
  {
   "cell_type": "markdown",
   "metadata": {},
   "source": [
    "Vänta, **vad hände här**? Objektet med index två är ju det tredje objektet, men det får vi inte med i vår slice? Python inkluderar det lägre indexet, men exkluderar det övre. För att få med alla tre objekt i listan skulle vi istället kunna skriva list[0:3]."
   ]
  },
  {
   "cell_type": "markdown",
   "metadata": {},
   "source": [
    "***Tupler*** betecknas med (runda) parenteser och är speciella på det sättet att de är ordnade (och ordningen ändras inte) och oföränderliga (*immutable*). De kan innehålla olika datatyper och tillåter att värden upprepas."
   ]
  },
  {
   "cell_type": "code",
   "execution_count": 20,
   "metadata": {},
   "outputs": [
    {
     "data": {
      "text/plain": [
       "(1, 2, 'Tre', 'tre')"
      ]
     },
     "execution_count": 20,
     "metadata": {},
     "output_type": "execute_result"
    }
   ],
   "source": [
    "tuple = (1,2,\"Tre\", \"tre\")\n",
    "tuple"
   ]
  },
  {
   "cell_type": "code",
   "execution_count": 21,
   "metadata": {},
   "outputs": [
    {
     "data": {
      "text/plain": [
       "(2, 'Tre')"
      ]
     },
     "execution_count": 21,
     "metadata": {},
     "output_type": "execute_result"
    }
   ],
   "source": [
    "tuple[1:3]"
   ]
  },
  {
   "cell_type": "code",
   "execution_count": 22,
   "metadata": {},
   "outputs": [
    {
     "name": "stdout",
     "output_type": "stream",
     "text": [
      "<class 'tuple'>\n",
      "<class 'int'>\n"
     ]
    }
   ],
   "source": [
    "# En tupel med ett värde skrivs så här\n",
    "print(type((1,)))\n",
    "\n",
    "# Annars blir det något annat\n",
    "print(type(1))"
   ]
  },
  {
   "cell_type": "markdown",
   "metadata": {},
   "source": [
    "Det finns ytterligare två standardtyper som liknar varandra: ***dictionary*** och ***set***. Ett dictionary består av nycklar och tillhörande värden (ett *key-value pair*), på det här formatet:"
   ]
  },
  {
   "cell_type": "code",
   "execution_count": 23,
   "metadata": {},
   "outputs": [],
   "source": [
    "dictionary = {\"nyckel\": \"värde\"}"
   ]
  },
  {
   "cell_type": "markdown",
   "metadata": {},
   "source": [
    "Vi kan få ut värden för en viss nyckel:"
   ]
  },
  {
   "cell_type": "code",
   "execution_count": 24,
   "metadata": {},
   "outputs": [
    {
     "data": {
      "text/plain": [
       "'värde'"
      ]
     },
     "execution_count": 24,
     "metadata": {},
     "output_type": "execute_result"
    }
   ],
   "source": [
    "dictionary[\"nyckel\"]"
   ]
  },
  {
   "cell_type": "markdown",
   "metadata": {},
   "source": [
    "På samma sätt kan vi också lägga in fler nycklar och värden:"
   ]
  },
  {
   "cell_type": "code",
   "execution_count": 25,
   "metadata": {},
   "outputs": [
    {
     "data": {
      "text/plain": [
       "{'nyckel': 'värde', 'nyckel2': 2}"
      ]
     },
     "execution_count": 25,
     "metadata": {},
     "output_type": "execute_result"
    }
   ],
   "source": [
    "dictionary[\"nyckel2\"] = 2\n",
    "dictionary"
   ]
  },
  {
   "cell_type": "markdown",
   "metadata": {},
   "source": [
    "Vi kan komma åt nycklar och värden i ett dictionary:"
   ]
  },
  {
   "cell_type": "code",
   "execution_count": 26,
   "metadata": {},
   "outputs": [
    {
     "name": "stdout",
     "output_type": "stream",
     "text": [
      "dict_keys(['nyckel', 'nyckel2'])\n",
      "dict_values(['värde', 2])\n",
      "dict_items([('nyckel', 'värde'), ('nyckel2', 2)])\n"
     ]
    }
   ],
   "source": [
    "print(dictionary.keys())\n",
    "print(dictionary.values())\n",
    "print(dictionary.items())"
   ]
  },
  {
   "cell_type": "markdown",
   "metadata": {},
   "source": [
    "Ett ***set*** är en uppsättning värden, där varje värde bara förekommer en gång. Även set anges med måsvingar, men inte som key-value-par."
   ]
  },
  {
   "cell_type": "code",
   "execution_count": 27,
   "metadata": {},
   "outputs": [
    {
     "data": {
      "text/plain": [
       "{3, 'Två', 'ett', 'två'}"
      ]
     },
     "execution_count": 27,
     "metadata": {},
     "output_type": "execute_result"
    }
   ],
   "source": [
    "ett_set = {\"ett\", \"två\", \"ett\", 3, 3, 3, \"Två\"}\n",
    "ett_set"
   ]
  },
  {
   "cell_type": "markdown",
   "metadata": {},
   "source": [
    "För att lägga till ett nytt värde i ett set använder vi metoden .add()"
   ]
  },
  {
   "cell_type": "code",
   "execution_count": 28,
   "metadata": {},
   "outputs": [
    {
     "data": {
      "text/plain": [
       "{3, 'Två', 'ett', 'fyra', 'två'}"
      ]
     },
     "execution_count": 28,
     "metadata": {},
     "output_type": "execute_result"
    }
   ],
   "source": [
    "ett_set.add(\"fyra\")\n",
    "ett_set"
   ]
  },
  {
   "cell_type": "markdown",
   "metadata": {},
   "source": [
    "### Booleska värden och logiska operatorer\n",
    "\n",
    "Jämförelser görs med typiska operatorer: >, <, ==, >=, <=, !=, men även *is* kan användas.\n",
    "De booleska värdena **True** och **False** skrivs precis så i Python (med inledande versal).\n"
   ]
  },
  {
   "cell_type": "code",
   "execution_count": 29,
   "metadata": {},
   "outputs": [
    {
     "name": "stdout",
     "output_type": "stream",
     "text": [
      "False\n",
      "False\n",
      "True\n",
      "True\n"
     ]
    }
   ],
   "source": [
    "print(1 == 2 )\n",
    "print(1 >= 2 )\n",
    "print(1 <= 2 )\n",
    "print(1 != 2 )"
   ]
  },
  {
   "cell_type": "markdown",
   "metadata": {},
   "source": [
    "Med *is* testar vi om två variabler pekar på samma objekt i minnet. Det fungerar bra med numeriska värden som är oföränderliga:"
   ]
  },
  {
   "cell_type": "code",
   "execution_count": 30,
   "metadata": {},
   "outputs": [
    {
     "data": {
      "text/plain": [
       "True"
      ]
     },
     "execution_count": 30,
     "metadata": {},
     "output_type": "execute_result"
    }
   ],
   "source": [
    "a = 100\n",
    "b = 100\n",
    "\n",
    "a is b"
   ]
  },
  {
   "cell_type": "markdown",
   "metadata": {},
   "source": [
    "Men inte lika bra om de, som listor, är föränderliga och pekar på olika platser i minnet:"
   ]
  },
  {
   "cell_type": "code",
   "execution_count": 31,
   "metadata": {},
   "outputs": [
    {
     "data": {
      "text/plain": [
       "False"
      ]
     },
     "execution_count": 31,
     "metadata": {},
     "output_type": "execute_result"
    }
   ],
   "source": [
    "b = [1,2]\n",
    "c = [1,2]\n",
    "\n",
    "b is c"
   ]
  },
  {
   "cell_type": "markdown",
   "metadata": {},
   "source": [
    "Vill vi jämföra om två värden eller variabler är lika bör vi alltså använda ==\n",
    "\n",
    "Det finns några booleska operatorer: *in*, *or*, *and* och *not*"
   ]
  },
  {
   "cell_type": "code",
   "execution_count": 32,
   "metadata": {},
   "outputs": [
    {
     "name": "stdout",
     "output_type": "stream",
     "text": [
      "True\n",
      "True\n",
      "True\n"
     ]
    }
   ],
   "source": [
    "# Vilken output tror du att det kommer bli i följande tre fall?\n",
    "\n",
    "print(1 in [1,2,3])\n",
    "print(4 not in [1,2,3] and 2 == (1+1))\n",
    "print(\"hej\" in [\"hej\", \"hopp\"] and 1 > 2 or 3 in [1,2,3])"
   ]
  },
  {
   "cell_type": "markdown",
   "metadata": {},
   "source": [
    "### Import av moduler\n",
    "\n",
    "Python-installationen kommer med moduler som inte laddas per automatik. Det går också att utöka Pythons funktionalitet med tredjepartsmoduler eller paket. För att importera ett paket eller en modul finns det tre tillvägagångssätt, här använder vi math-modulen som ett exempel. \n",
    "\n",
    "Importera hela modulen - här kommer alla funktioner och konstanter som modulen innehålla läggas i ett *namespace* där vi kan komma åt funktionerna genom att skriva `[modulnamn]`.`[funktion]`. \n"
   ]
  },
  {
   "cell_type": "code",
   "execution_count": 33,
   "metadata": {},
   "outputs": [],
   "source": [
    "import math"
   ]
  },
  {
   "cell_type": "markdown",
   "metadata": {},
   "source": [
    "Vi kan nu använda alla funktioner i modulen math genom att ange modulnamnet som det namespace vi vill hämta funktionen från:"
   ]
  },
  {
   "cell_type": "code",
   "execution_count": 34,
   "metadata": {},
   "outputs": [
    {
     "data": {
      "text/plain": [
       "2.302585092994046"
      ]
     },
     "execution_count": 34,
     "metadata": {},
     "output_type": "execute_result"
    }
   ],
   "source": [
    "math.log(10)"
   ]
  },
  {
   "cell_type": "markdown",
   "metadata": {},
   "source": [
    "Vi kan också ge modulen ett alias för att göra kod mer läsbar, t ex:"
   ]
  },
  {
   "cell_type": "code",
   "execution_count": 35,
   "metadata": {},
   "outputs": [
    {
     "data": {
      "text/plain": [
       "3.0"
      ]
     },
     "execution_count": 35,
     "metadata": {},
     "output_type": "execute_result"
    }
   ],
   "source": [
    "import math as m\n",
    "m.sqrt(9)"
   ]
  },
  {
   "cell_type": "markdown",
   "metadata": {},
   "source": [
    "Slutligen kan vi importera en enskild funktion från en modul. När vi importerar på det här sättet så placeras funktionen i det globala namespacet och vi kan använda funktionen direkt. Det skulle dock kunna medföra att en funktion som råkar dela namn med en annan funktion skuggas ut och är otillgänglig."
   ]
  },
  {
   "cell_type": "code",
   "execution_count": 36,
   "metadata": {},
   "outputs": [
    {
     "data": {
      "text/plain": [
       "8103.083927575384"
      ]
     },
     "execution_count": 36,
     "metadata": {},
     "output_type": "execute_result"
    }
   ],
   "source": [
    "from math import exp\n",
    "exp(9)"
   ]
  },
  {
   "cell_type": "markdown",
   "metadata": {},
   "source": [
    "### Lite mer om indexering\n",
    "\n",
    "Som vi såg tidigare kan strängar, listor med mera kan ha index som låter oss hämta ett eller flera element."
   ]
  },
  {
   "cell_type": "code",
   "execution_count": 37,
   "metadata": {},
   "outputs": [
    {
     "name": "stdout",
     "output_type": "stream",
     "text": [
      "e\n",
      "n st\n",
      "räng\n",
      "sträng\n",
      "nrs\n"
     ]
    }
   ],
   "source": [
    "# Första elementet i strängen string.\n",
    "print(\"en sträng\"[0])\n",
    "\n",
    "# Vi kan hämta flera element genom att använda kolon (:).\n",
    "print(\"en sträng\"[1:5])\n",
    "\n",
    "# Det går bra att använda kolon för att välja allt från början eller slutet.\n",
    "print(\"en sträng\"[5:])\n",
    "\n",
    "# Vi kan indexera från slutet genom att skriva ett negativt tal.\n",
    "print(\"en sträng\"[-6:])\n",
    "\n",
    "# Vi kan också välja t ex varannan bokstav i strängen (här backar vi genom strängen).\n",
    "print(\"en sträng\"[7:1:-2])"
   ]
  },
  {
   "cell_type": "markdown",
   "metadata": {},
   "source": [
    "### Något om strängmetoder\n",
    "\n",
    "Det finns många bra metoder för att arbeta med strängar, till exempel..."
   ]
  },
  {
   "cell_type": "code",
   "execution_count": 38,
   "metadata": {},
   "outputs": [
    {
     "name": "stdout",
     "output_type": "stream",
     "text": [
      "lowercase\n",
      "UPPERCASE\n"
     ]
    }
   ],
   "source": [
    "print(\"LoWerCaSE\".lower())\n",
    "print(\"uppercase\".upper())"
   ]
  },
  {
   "cell_type": "markdown",
   "metadata": {},
   "source": [
    "En väldigt smidig sak med Python är att vi kan kedja ihop flera metoder som hör till samma klass, för att utföra flera operationer på ett objekt."
   ]
  },
  {
   "cell_type": "code",
   "execution_count": 39,
   "metadata": {},
   "outputs": [
    {
     "data": {
      "text/plain": [
       "'UPPeRCASe'"
      ]
     },
     "execution_count": 39,
     "metadata": {},
     "output_type": "execute_result"
    }
   ],
   "source": [
    "\"uppercase   \".rstrip().upper().replace(\"E\",\"e\")"
   ]
  },
  {
   "cell_type": "code",
   "execution_count": 40,
   "metadata": {},
   "outputs": [
    {
     "name": "stdout",
     "output_type": "stream",
     "text": [
      "['a', 'string', 'consisting', 'of', 'many', 'words']\n",
      "a string consisting of many words\n"
     ]
    }
   ],
   "source": [
    "# Vi kan dela upp en sträng bestående av flera ord i en lista\n",
    "a_string = \"a string consisting of many words\"\n",
    "words = a_string.split()\n",
    "print(words)\n",
    "\n",
    "# Så här sätter vi ihop orden till en mening igen (om vi vill ha mellanslag mellan orden)\n",
    "print(\" \".join(words))"
   ]
  },
  {
   "cell_type": "code",
   "execution_count": 41,
   "metadata": {},
   "outputs": [
    {
     "name": "stdout",
     "output_type": "stream",
     "text": [
      "['a', ' ', 's', 't', 'r', 'i', 'n', 'g', ' ', 'c', 'o', 'n', 's', 'i', 's', 't', 'i', 'n', 'g', ' ', 'o', 'f', ' ', 'm', 'a', 'n', 'y', ' ', 'w', 'o', 'r', 'd', 's']\n",
      "a string consisting of many words\n"
     ]
    }
   ],
   "source": [
    "# Vi kan använda oss av unpack (*) för att bryta isär strängen till en lista med bokstäver\n",
    "print([*a_string])\n",
    "\n",
    "# Och slå ihop som tidigare med .join()\n",
    "print(\"\".join([*a_string]))"
   ]
  },
  {
   "cell_type": "markdown",
   "metadata": {},
   "source": [
    "### Formaterade strängar\n",
    "\n",
    "Python gör det enkelt att använda en variabels värde i en sträng. Det finns olika sätt att skapa s.k. formaterade strängar, men det enklaste är att skriva ett $f$ framför strängen och ange variabeln i måsvingar."
   ]
  },
  {
   "cell_type": "code",
   "execution_count": 42,
   "metadata": {},
   "outputs": [
    {
     "data": {
      "text/plain": [
       "'klockan är 10:17'"
      ]
     },
     "execution_count": 42,
     "metadata": {},
     "output_type": "execute_result"
    }
   ],
   "source": [
    "import datetime as dt\n",
    "kl = dt.datetime.now().strftime(\"%H:%M\")\n",
    "\n",
    "f\"klockan är {kl}\""
   ]
  },
  {
   "cell_type": "code",
   "execution_count": 43,
   "metadata": {},
   "outputs": [
    {
     "data": {
      "text/plain": [
       "'1.13'"
      ]
     },
     "execution_count": 43,
     "metadata": {},
     "output_type": "execute_result"
    }
   ],
   "source": [
    "f\"{1.1312415:.3}\""
   ]
  },
  {
   "cell_type": "markdown",
   "metadata": {},
   "source": [
    "### Indentering\n",
    "\n",
    "I Python använder vi inte måsvingar/curly brackets för gruppera block med kod. Istället är indentering det som håller ihop kodblock. Det går att indentera med både mellanslag och tab. Det här är en fråga om tycke och smak. Används mellanslag måste det alltid vara samma antal mellanslag i ett block med kod (default är fyra mellanslag, men det går att välja själv så länge man är konsekvent). Jag föredrar tab!"
   ]
  },
  {
   "cell_type": "code",
   "execution_count": 44,
   "metadata": {},
   "outputs": [
    {
     "name": "stdout",
     "output_type": "stream",
     "text": [
      "Detta\n",
      "funkar\n"
     ]
    }
   ],
   "source": [
    "if True:\n",
    "    print(\"Detta\")\n",
    "    print(\"funkar\")"
   ]
  },
  {
   "cell_type": "code",
   "execution_count": 45,
   "metadata": {},
   "outputs": [
    {
     "ename": "IndentationError",
     "evalue": "unexpected indent (663001642.py, line 3)",
     "output_type": "error",
     "traceback": [
      "\u001b[1;36m  Cell \u001b[1;32mIn [45], line 3\u001b[1;36m\u001b[0m\n\u001b[1;33m    print(\"funkar ej\")\u001b[0m\n\u001b[1;37m    ^\u001b[0m\n\u001b[1;31mIndentationError\u001b[0m\u001b[1;31m:\u001b[0m unexpected indent\n"
     ]
    }
   ],
   "source": [
    "if True:\n",
    "   print(\"Detta\")\n",
    "    print(\"funkar ej\")"
   ]
  },
  {
   "cell_type": "code",
   "execution_count": 46,
   "metadata": {},
   "outputs": [
    {
     "name": "stdout",
     "output_type": "stream",
     "text": [
      "Nivå ett\n",
      "Nivå två\n"
     ]
    }
   ],
   "source": [
    "if True:\n",
    "    print(\"Nivå ett\")\n",
    "    if True:\n",
    "        print(\"Nivå två\")"
   ]
  },
  {
   "cell_type": "markdown",
   "metadata": {},
   "source": [
    "### Loopar och iterabler\n",
    "\n",
    "Python har två typer av loopar, ***for*** och ***while***.\n",
    "\n",
    "While-loopen kan användas när vi vill utföra en operation ett okänt antal gånger och fungerar på ungefär samma sätt som i andra programmeringsspråk. Vi kan kontrollera flödet med uttrycket `break` som bryter loopen och med `continue` som hoppar vidare till nästa iteration."
   ]
  },
  {
   "cell_type": "code",
   "execution_count": 47,
   "metadata": {},
   "outputs": [
    {
     "name": "stdout",
     "output_type": "stream",
     "text": [
      "4\n",
      "3\n",
      "2\n",
      "1\n"
     ]
    }
   ],
   "source": [
    "k = 4\n",
    "while k > 0:\n",
    "    print(k)\n",
    "    k -= 1"
   ]
  },
  {
   "cell_type": "markdown",
   "metadata": {},
   "source": [
    "I Python kan vi använda konstruktionen `while-else` för att exekvera kod om while-loopen inte stöter på något break-uttryck."
   ]
  },
  {
   "cell_type": "code",
   "execution_count": 48,
   "metadata": {},
   "outputs": [
    {
     "name": "stdout",
     "output_type": "stream",
     "text": [
      "4\n",
      "3\n",
      "2\n",
      "1\n",
      "Gimme a break!\n"
     ]
    }
   ],
   "source": [
    "k = 4\n",
    "while k > 0:\n",
    "    print(k)\n",
    "    if k == 0:\n",
    "        break\n",
    "    k -= 1\n",
    "else:\n",
    "    print(\"Gimme a break!\")"
   ]
  },
  {
   "cell_type": "markdown",
   "metadata": {},
   "source": [
    "For-loopar i Python används för att iterera över en sekvens (listor, tupler, dictionaries, set, strängar med mera). Det vi itererar över kallar vi för en iterabel."
   ]
  },
  {
   "cell_type": "code",
   "execution_count": 49,
   "metadata": {},
   "outputs": [
    {
     "name": "stdout",
     "output_type": "stream",
     "text": [
      "1\n",
      "2\n",
      "3\n"
     ]
    }
   ],
   "source": [
    "a_list = [1,2,3]\n",
    "\n",
    "for item in a_list:\n",
    "    print(item)"
   ]
  },
  {
   "cell_type": "markdown",
   "metadata": {},
   "source": [
    "För ett dictionary kan vi iterera över både nycklar och värden."
   ]
  },
  {
   "cell_type": "code",
   "execution_count": 50,
   "metadata": {},
   "outputs": [
    {
     "name": "stdout",
     "output_type": "stream",
     "text": [
      "Henrik kör oftast i 110 km/h.\n",
      "Rasmus kör oftast i 80 km/h.\n",
      "Christer kör oftast i 30 km/h.\n"
     ]
    }
   ],
   "source": [
    "\n",
    "maxhastighet = {\"Henrik\": 110, \"Rasmus\": 80, \"Christer\": 30}\n",
    "\n",
    "for namn, hastighet in maxhastighet.items():\n",
    "    print(f\"{namn} kör oftast i {hastighet} km/h.\")"
   ]
  },
  {
   "cell_type": "markdown",
   "metadata": {},
   "source": [
    "Med `range()` kan vi skapa en iterabel med numeriska värden mellan ett start- och ett slutvärde."
   ]
  },
  {
   "cell_type": "code",
   "execution_count": 51,
   "metadata": {},
   "outputs": [
    {
     "name": "stdout",
     "output_type": "stream",
     "text": [
      "range(0, 4)\n",
      "0\n",
      "1\n",
      "2\n",
      "3\n"
     ]
    }
   ],
   "source": [
    "# Som default startar intervallet på noll. Obs! intervallets slutvärde inkluderas inte!\n",
    "a_range = range(4)\n",
    "\n",
    "# Vi få ett range-objekt...\n",
    "print(a_range)\n",
    "\n",
    "# ...som vi kan iterera över.\n",
    "for k in a_range:\n",
    "    print(k)"
   ]
  },
  {
   "cell_type": "code",
   "execution_count": 52,
   "metadata": {},
   "outputs": [
    {
     "name": "stdout",
     "output_type": "stream",
     "text": [
      "another_range: 3\n",
      "another_range: 4\n",
      "another_range: 5\n",
      "Usch, en femma!\n"
     ]
    }
   ],
   "source": [
    "# Ett intervall som inte börjar på noll.\n",
    "another_range = range(3,7)\n",
    "\n",
    "for n in another_range:\n",
    "    print(f\"another_range: {n}\")\n",
    "\n",
    "    # Det går bra att använda flödeskontroller i for-loopar.\n",
    "    if n == 5:\n",
    "        print(\"Usch, en femma!\")\n",
    "        break"
   ]
  },
  {
   "cell_type": "markdown",
   "metadata": {},
   "source": [
    "Python har några smidiga metoder som gör det lätt att arbeta med iterabler. Med `enumerate()` får vi en numrerad iterabel."
   ]
  },
  {
   "cell_type": "code",
   "execution_count": 53,
   "metadata": {},
   "outputs": [
    {
     "name": "stdout",
     "output_type": "stream",
     "text": [
      "1: första elementet\n",
      "2: andra elementet\n"
     ]
    }
   ],
   "source": [
    "a_list = [\"första elementet\", \"andra elementet\"]\n",
    "\n",
    "# Enumerate med parametern start satt till 1 (default 0).\n",
    "for index, value in enumerate(a_list, start = 1):\n",
    "    print(f\"{index}: {value}\")"
   ]
  },
  {
   "cell_type": "markdown",
   "metadata": {},
   "source": [
    "Med `zip()` kan vi kombinera två iterabler i ett \"zippat\" objekt. Om iterablerna är olika långa så blir det zippade objektet så lång som den kortare iterabeln."
   ]
  },
  {
   "cell_type": "code",
   "execution_count": 54,
   "metadata": {},
   "outputs": [
    {
     "name": "stdout",
     "output_type": "stream",
     "text": [
      "<class 'zip'>\n",
      "5 myror\n",
      "4 elefanter\n"
     ]
    }
   ],
   "source": [
    "# Zip\n",
    "antal = [5, 4]\n",
    "djur = [\"myror\", \"elefanter\"]\n",
    "\n",
    "antal_djur = zip(antal, djur)\n",
    "\n",
    "# Obs! Detta blir ett zip-objekt som innehåller tupler\n",
    "print(type(antal_djur))\n",
    "\n",
    "# För att använda zip-objektet kan vi t ex iterera över det.\n",
    "for a, d in antal_djur:\n",
    "    print(a, d)"
   ]
  },
  {
   "cell_type": "code",
   "execution_count": 55,
   "metadata": {},
   "outputs": [
    {
     "name": "stdout",
     "output_type": "stream",
     "text": [
      "[(5, 'myror'), (4, 'elefanter')]\n"
     ]
    }
   ],
   "source": [
    "# Obs! När vi använder ett zip-objekt tömmer vi det på värden.\n",
    "antal_djur = zip(antal, djur)\n",
    "\n",
    "print(list(antal_djur))\n",
    "\n",
    "for a, d in antal_djur:\n",
    "    print(\"finns värden kvar i zip-objektet?\", a, d)"
   ]
  },
  {
   "cell_type": "markdown",
   "metadata": {},
   "source": [
    "### Flödeskontroll\n",
    "\n",
    "I Python kan vi styra exekveringen av block av kod med konstruktionen if-elif-else. Om inte if-blockets villkor uppfylls testas ett eller flera elif-villkor. Slutligen exekveras else-blocket om inget av de tidigare villkoren uppfyllts."
   ]
  },
  {
   "cell_type": "code",
   "execution_count": 56,
   "metadata": {},
   "outputs": [
    {
     "name": "stdout",
     "output_type": "stream",
     "text": [
      "3^2 är nio\n"
     ]
    }
   ],
   "source": [
    "if(1>2):\n",
    "    print(\"ett är större än två\")\n",
    "elif(\"katt\" in [\"hund\", \"råtta\"]):\n",
    "    print(\"ett djur!\")\n",
    "elif(3**2==9):\n",
    "    print(\"3^2 är nio\")\n",
    "else:\n",
    "    print(\"gör något annat\")"
   ]
  },
  {
   "cell_type": "markdown",
   "metadata": {},
   "source": [
    "### Funktioner\n",
    "\n",
    "Självklart kan vi definiera våra egna funktioner i Python. Här är ett enkelt exempel:"
   ]
  },
  {
   "cell_type": "code",
   "execution_count": 57,
   "metadata": {},
   "outputs": [
    {
     "name": "stdout",
     "output_type": "stream",
     "text": [
      "printa det här!\n"
     ]
    }
   ],
   "source": [
    "# Skriv def, ett funktionsnamn och lägg till en parentes med eventuella parametrar\n",
    "# för att skapa en funktion.\n",
    "def en_funktion(en_parameter):\n",
    "    print(en_parameter)\n",
    "\n",
    "en_funktion(\"printa det här!\")"
   ]
  },
  {
   "cell_type": "code",
   "execution_count": 58,
   "metadata": {},
   "outputs": [
    {
     "data": {
      "text/plain": [
       "7"
      ]
     },
     "execution_count": 58,
     "metadata": {},
     "output_type": "execute_result"
    }
   ],
   "source": [
    "# Vi kan returnera värden\n",
    "def addera(a, b):\n",
    "    return a+b\n",
    "\n",
    "addera(2,5)"
   ]
  },
  {
   "cell_type": "code",
   "execution_count": 59,
   "metadata": {},
   "outputs": [
    {
     "name": "stdout",
     "output_type": "stream",
     "text": [
      "2\n",
      "5\n"
     ]
    }
   ],
   "source": [
    "produkt = 5\n",
    "\n",
    "# Variabler inne i en funktion lever i ett lokalt scope och påverkar inte globala variabler.\n",
    "def multiplicera(a,b):\n",
    "    produkt = a*b\n",
    "    return produkt\n",
    "\n",
    "resultat = multiplicera(1,2)\n",
    "print(resultat)\n",
    "print(produkt)"
   ]
  },
  {
   "cell_type": "code",
   "execution_count": 60,
   "metadata": {},
   "outputs": [
    {
     "name": "stdout",
     "output_type": "stream",
     "text": [
      "1\n",
      "32\n",
      "5\n"
     ]
    }
   ],
   "source": [
    "# Det går att sätta defaultvärden för parametrarna.\n",
    "def exponent(a = 1, b = 1):\n",
    "    return a**b\n",
    "\n",
    "print(exponent())\n",
    "print(exponent(2,5))\n",
    "print(exponent(a=5))"
   ]
  },
  {
   "cell_type": "code",
   "execution_count": 61,
   "metadata": {},
   "outputs": [
    {
     "data": {
      "text/plain": [
       "'99 luftballonger'"
      ]
     },
     "execution_count": 61,
     "metadata": {},
     "output_type": "execute_result"
    }
   ],
   "source": [
    "# Vi kan annotera parametertyperna, men det genereras inga fel om vi stoppar in fel typ.\n",
    "# Det går också att annotera outputen med ->\n",
    "def kombinera(a: int, b: str) -> str:\n",
    "    str_komb = f\"{a} {b}\"\n",
    "    return str_komb\n",
    "\n",
    "kombinera(99, \"luftballonger\")"
   ]
  },
  {
   "cell_type": "markdown",
   "metadata": {},
   "source": [
    "#### *args och **kwargs\n",
    "\n",
    "I Python kan vi skicka in ytterligare argument till en funktion, antingen namngivna (`**kwargs`, keyword arguments) eller `*args`. Det är egentligen asteriskerna som är det viktiga, men det är konvention att använda args och kwargs som namn på argumenten. Exempel på användandet av ytterligare argument med `*args`:"
   ]
  },
  {
   "cell_type": "code",
   "execution_count": 62,
   "metadata": {},
   "outputs": [
    {
     "name": "stdout",
     "output_type": "stream",
     "text": [
      "6\n",
      "300\n"
     ]
    }
   ],
   "source": [
    "# I vår nya multiplikatorfunktion kan vi skicka in valfritt antal värden som ska multipliceras ihop.\n",
    "def multiplicera_ny(*args):\n",
    "    produkt = 1\n",
    "    for arg in args:\n",
    "        produkt *= arg\n",
    "    return produkt\n",
    "\n",
    "print(multiplicera_ny(1,2,3))\n",
    "print(multiplicera_ny(5,2,3,1,5,2))"
   ]
  },
  {
   "cell_type": "markdown",
   "metadata": {},
   "source": [
    "Keyword arguments blir ungefär som dictionaries, med nycklar och tillhörande värden. Vi kan \"packa upp\" kwargsen på samma sätt, genom `.items()`, `.keys()` eller `.values()`"
   ]
  },
  {
   "cell_type": "code",
   "execution_count": 63,
   "metadata": {},
   "outputs": [
    {
     "name": "stdout",
     "output_type": "stream",
     "text": [
      "färg har värde blå\n",
      "form har värde rund\n"
     ]
    }
   ],
   "source": [
    "def keywords(**kwargs):\n",
    "    for argument, varde in kwargs.items():\n",
    "        print(f\"{argument} har värde {varde}\")\n",
    "\n",
    "keywords(färg=\"blå\", form=\"rund\")"
   ]
  },
  {
   "cell_type": "code",
   "execution_count": 64,
   "metadata": {},
   "outputs": [
    {
     "name": "stdout",
     "output_type": "stream",
     "text": [
      "14.951111111111114\n",
      "2\n"
     ]
    }
   ],
   "source": [
    "# Här kombinerar vi paramterar, args och kwargs.\n",
    "def specialfunktion(a, *args, **kwargs):\n",
    "    if (\"exponent\" in kwargs.keys()):\n",
    "        for arg in args:\n",
    "            a += 1/arg\n",
    "        return(a**kwargs[\"exponent\"])\n",
    "    else:\n",
    "        return a\n",
    "\n",
    "print(specialfunktion(2,3,3,5,1,exponent=2))\n",
    "print(specialfunktion(2,3,3,5,1,log=2))"
   ]
  },
  {
   "cell_type": "markdown",
   "metadata": {},
   "source": [
    "## Överkurs"
   ]
  },
  {
   "cell_type": "markdown",
   "metadata": {},
   "source": [
    "### Comprehensions\n",
    "\n",
    "Det finns smidiga sätt att skriva loopar som opererar på listor och dictionaries på som kallas  comprehensions. De är inte alltid lätta att förstå, men de ger väldigt komprimerad kod."
   ]
  },
  {
   "cell_type": "code",
   "execution_count": 65,
   "metadata": {},
   "outputs": [
    {
     "data": {
      "text/plain": [
       "[3, 4, 5, 6, 7]"
      ]
     },
     "execution_count": 65,
     "metadata": {},
     "output_type": "execute_result"
    }
   ],
   "source": [
    "# List comprehensions\n",
    "[x+3 for x in range(5)]"
   ]
  },
  {
   "cell_type": "code",
   "execution_count": 66,
   "metadata": {},
   "outputs": [
    {
     "data": {
      "text/plain": [
       "[3, 5, 7]"
      ]
     },
     "execution_count": 66,
     "metadata": {},
     "output_type": "execute_result"
    }
   ],
   "source": [
    "# Med villkor\n",
    "[x+3 for x in range(5) if x % 2 == 0]"
   ]
  },
  {
   "cell_type": "code",
   "execution_count": 67,
   "metadata": {},
   "outputs": [
    {
     "name": "stdout",
     "output_type": "stream",
     "text": [
      "{'ett': 1, 'två': 4, 'tre': 9}\n"
     ]
    }
   ],
   "source": [
    "# Dictionary comprehensions, lite mer komplicerat.\n",
    "dict1 = {\"ett\": 1 , \"två\": 2, \"tre\": 3}\n",
    "new_dict = {key:val**2 for (key, val) in dict1.items()}\n",
    "\n",
    "print(new_dict)"
   ]
  },
  {
   "cell_type": "code",
   "execution_count": 68,
   "metadata": {},
   "outputs": [
    {
     "name": "stdout",
     "output_type": "stream",
     "text": [
      "6\n",
      "5\n",
      "8\n",
      "a: 3, b: 2\n"
     ]
    }
   ],
   "source": [
    "# Unpack\n",
    "ett, två, tre = (1, 2, 3) # Konvertera tupel till tre variabler.\n",
    "print(ett + två + tre)\n",
    "\n",
    "# Vi vill inte ha det första elementet som en egen variabel.\n",
    "_, två, tre = [3,2,3]\n",
    "\n",
    "print(två + tre)\n",
    "\n",
    "# Obs! Underscore har dock fått ett värde, men det är konvention att assigna oönskade värden dit\n",
    "print(_ + två + tre)\n",
    "\n",
    "a = 2\n",
    "b = 3\n",
    "\n",
    "# Swappa variabler\n",
    "a,b=b,a\n",
    "\n",
    "print(f\"a: {a}, b: {b}\")"
   ]
  },
  {
   "cell_type": "markdown",
   "metadata": {},
   "source": [
    "En bra konstruktion för att fånga upp och hantera eventuella fel i koden är konstruktionen `tre-except-else-finally`. Vi testar att köra koden som finns i try-blocket. Om det uppstår ett fel exekveras koden i except-blocket som låter oss hantera felet. Om vi inte får något fel exekveras koden i else-blocket. Slutligen exekveras alltid koden i finally-blocket (om någon)."
   ]
  },
  {
   "cell_type": "code",
   "execution_count": 69,
   "metadata": {},
   "outputs": [
    {
     "name": "stdout",
     "output_type": "stream",
     "text": [
      "Det blev ett fel!\n",
      "Nu är jag klar.\n"
     ]
    }
   ],
   "source": [
    "try:\n",
    "    1+\"två\"\n",
    "except:\n",
    "    print(\"Det blev ett fel!\")\n",
    "else:\n",
    "    print(\"Det gick bra!\")\n",
    "finally:\n",
    "    print(\"Nu är jag klar.\")"
   ]
  }
 ],
 "metadata": {
  "kernelspec": {
   "display_name": "Python 3.11.0 ('.venv': venv)",
   "language": "python",
   "name": "python3"
  },
  "language_info": {
   "codemirror_mode": {
    "name": "ipython",
    "version": 3
   },
   "file_extension": ".py",
   "mimetype": "text/x-python",
   "name": "python",
   "nbconvert_exporter": "python",
   "pygments_lexer": "ipython3",
   "version": "3.11.0"
  },
  "orig_nbformat": 4,
  "vscode": {
   "interpreter": {
    "hash": "4cc145e4d2ab97f30f4677a0ee85f87459067b50a11a899f97eb3bc4f47de9f5"
   }
  }
 },
 "nbformat": 4,
 "nbformat_minor": 2
}
