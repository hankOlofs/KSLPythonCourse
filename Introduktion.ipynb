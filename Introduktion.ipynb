{
 "cells": [
  {
   "cell_type": "markdown",
   "metadata": {},
   "source": [
    "# Introduktion till Python\n",
    "\n",
    "Välkommen till den här kursen i Python, mer specifikt Python3!\n",
    "\n",
    "I kursen kommer vi använda Visual Studio Code (VS Code) som utvecklingsmiljö (IDE). Instruktioner för installationen har getts separat.\n",
    "\n",
    "### Python notebooks\n",
    "Materialet är till stor del uppbyggt i så kallade notebooks (du läser i en notebook just nu!). I en notebook kan vi dels skriva och formattera text (markdown), dels skriva och köra Python-kod interaktivt. Kod i en notebook körs i den ordning du kör cellerna, vilket ger stora möjligheter att experimentera fram och tillbaka. Det kan dock få oväntade konsekvenser om man kör en cell i \"fel\" ordning och råkar ändra ett objekt på ett oväntat sätt...\n",
    "\n",
    "### Tips\n",
    "- För att köra kod i en cell, tryck shift + enter (markören flyttar sig då till nästa cell). \n",
    "- Google är din vän, typ alla problem går att lösa genom en bra sökning.\n",
    "- För att få mer information om ett objekt, använd funktionen help([objektet])\n",
    "- Python indexerar från **noll**\n",
    "\n",
    "### Kännetecken\n",
    "\n",
    "Lätt att läsa och skriva kod, långsamt på att exekvera. Kompileras ej utan evalueras/utvärderas vid körning (runtime).\n",
    "\n",
    "Det finns en rik flora av paket som utökar Pythons funktionalitet.\n",
    "\n",
    "\n",
    "###"
   ]
  },
  {
   "cell_type": "markdown",
   "metadata": {},
   "source": [
    "### Objekttyper\n",
    "\n",
    "Vi börjar med att kolla på det mest grundläggande, objekt och objekttyper. I Python behöver vi inte deklarera någon objekttyp som i många andra språk. Istället är Python ett **dynamiskt typat** språk, där ett objekts typ beror på dess tilldelade värde när vi kör koden. Python är också ett **starkt typat** språk, vilket betyder att alla variabler och objekt har en typ och att typen spelar roll när man utför operationer på dem.\n",
    "\n",
    "Testa att köra cellerna nedan (shift + enter) och se om resultatet överensstämmer med det du förväntar dig!"
   ]
  },
  {
   "cell_type": "code",
   "execution_count": 1,
   "metadata": {},
   "outputs": [
    {
     "name": "stdout",
     "output_type": "stream",
     "text": [
      "en sträng\n"
     ]
    },
    {
     "data": {
      "text/plain": [
       "str"
      ]
     },
     "execution_count": 1,
     "metadata": {},
     "output_type": "execute_result"
    }
   ],
   "source": [
    "a_string = \"en sträng\"\n",
    "print(a_string)\n",
    "type(a_string)\n"
   ]
  },
  {
   "cell_type": "code",
   "execution_count": 3,
   "metadata": {},
   "outputs": [
    {
     "data": {
      "text/plain": [
       "int"
      ]
     },
     "execution_count": 3,
     "metadata": {},
     "output_type": "execute_result"
    }
   ],
   "source": [
    "an_int = 42\n",
    "type(an_int)"
   ]
  },
  {
   "cell_type": "code",
   "execution_count": 8,
   "metadata": {},
   "outputs": [
    {
     "data": {
      "text/plain": [
       "float"
      ]
     },
     "execution_count": 8,
     "metadata": {},
     "output_type": "execute_result"
    }
   ],
   "source": [
    "a_float = 42.0\n",
    "type(a_float)"
   ]
  },
  {
   "cell_type": "markdown",
   "metadata": {},
   "source": [
    "Python är som sagt starkt typat och alla objekttyper är inte kompatibla. Jämför de två fallen nedan (Obs! I första fallet får vi ett TypeError - läs felmeddelandet för mer information)."
   ]
  },
  {
   "cell_type": "code",
   "execution_count": 9,
   "metadata": {},
   "outputs": [
    {
     "ename": "TypeError",
     "evalue": "can only concatenate str (not \"int\") to str",
     "output_type": "error",
     "traceback": [
      "\u001b[1;31m---------------------------------------------------------------------------\u001b[0m",
      "\u001b[1;31mTypeError\u001b[0m                                 Traceback (most recent call last)",
      "Cell \u001b[1;32mIn [9], line 1\u001b[0m\n\u001b[1;32m----> 1\u001b[0m \u001b[38;5;124m\"\u001b[39m\u001b[38;5;124msträng\u001b[39m\u001b[38;5;124m\"\u001b[39m \u001b[38;5;241m+\u001b[39m \u001b[38;5;241m123\u001b[39m\n",
      "\u001b[1;31mTypeError\u001b[0m: can only concatenate str (not \"int\") to str"
     ]
    }
   ],
   "source": [
    "\"sträng\" + 123"
   ]
  },
  {
   "cell_type": "code",
   "execution_count": 37,
   "metadata": {},
   "outputs": [
    {
     "data": {
      "text/plain": [
       "133.15"
      ]
     },
     "execution_count": 37,
     "metadata": {},
     "output_type": "execute_result"
    }
   ],
   "source": [
    "10+123.15"
   ]
  },
  {
   "cell_type": "markdown",
   "metadata": {},
   "source": [
    "Python är också dynamiskt typat, typen bestäms vid körning. Se vad som händer med variabeln a nedan."
   ]
  },
  {
   "cell_type": "code",
   "execution_count": 36,
   "metadata": {},
   "outputs": [
    {
     "name": "stdout",
     "output_type": "stream",
     "text": [
      "<class 'str'>\n",
      "<class 'int'>\n"
     ]
    }
   ],
   "source": [
    "a = \"sträng\"\n",
    "print(type(a))\n",
    "a = 999\n",
    "print(type(a))\n"
   ]
  },
  {
   "cell_type": "code",
   "execution_count": 49,
   "metadata": {},
   "outputs": [
    {
     "data": {
      "text/plain": [
       "'en sträng kan kombineras med en annan sträng'"
      ]
     },
     "execution_count": 49,
     "metadata": {},
     "output_type": "execute_result"
    }
   ],
   "source": [
    "b = \"en sträng \" + \"kan kombineras med \" + \"en annan sträng\"\n",
    "b"
   ]
  },
  {
   "cell_type": "markdown",
   "metadata": {},
   "source": [
    "Vi kan använda självinkrementering += för att addera ett värde till en variabel. Vi kan alltså skriva x += y istället för x = x + y."
   ]
  },
  {
   "cell_type": "code",
   "execution_count": 50,
   "metadata": {},
   "outputs": [
    {
     "data": {
      "text/plain": [
       "'en sträng kan kombineras med en annan sträng på det här sättet'"
      ]
     },
     "execution_count": 50,
     "metadata": {},
     "output_type": "execute_result"
    }
   ],
   "source": [
    "b += \" på det här sättet\"\n",
    "b"
   ]
  },
  {
   "cell_type": "markdown",
   "metadata": {},
   "source": [
    "Det går bra att använda enkel- eller dubbelfnuttar för strängar, men blanda inte (om du inte måste)."
   ]
  },
  {
   "cell_type": "code",
   "execution_count": 7,
   "metadata": {},
   "outputs": [
    {
     "name": "stdout",
     "output_type": "stream",
     "text": [
      "sträng med enkelfnutt\n",
      "sträng med dubbelfnutt\n",
      "en sträng 'med ett citat' i mitten\n"
     ]
    }
   ],
   "source": [
    "print('sträng med enkelfnutt')\n",
    "print(\"sträng med dubbelfnutt\")\n",
    "print(\"en sträng 'med ett citat' i mitten\")"
   ]
  },
  {
   "cell_type": "code",
   "execution_count": 40,
   "metadata": {},
   "outputs": [],
   "source": [
    "# Psst! Hej, jag är en kommentar!\n",
    "#\n",
    "# Använd ett inledande # om du vill skapa nya kommentar-kompisar till mig för att beskriva din kod.\n",
    "# Tips: Du kan kommentera eller avkommentera ett helt kodblock genom att markera det och trycka\n",
    "# Ctrl + ' (på ett svenskt tangentbord). Testa gärna här!"
   ]
  },
  {
   "cell_type": "markdown",
   "metadata": {},
   "source": [
    "### Andra objekttyper\n",
    "Nu har vi sett några objekttyper: str, int och float. Det finns några andra inbyggda typer som  du säkert känner igen från andra språk, men kanske också några nyheter. Vi går igenom några av de vanligaste här, men vill du veta mer finns det självklart [dokumentation om objekttyper](https://docs.python.org/3/library/stdtypes.html)."
   ]
  },
  {
   "cell_type": "markdown",
   "metadata": {},
   "source": [
    "Vi kikar på de fyra typerna för samlingar av objekt (*collections*). Det finns ***listor*** som anges med [hak-klamrar], elementen separeras med komma. Listor kan innehålla olika typer av objekt."
   ]
  },
  {
   "cell_type": "code",
   "execution_count": 110,
   "metadata": {},
   "outputs": [
    {
     "data": {
      "text/plain": [
       "[1, 2, 'tre']"
      ]
     },
     "execution_count": 110,
     "metadata": {},
     "output_type": "execute_result"
    }
   ],
   "source": [
    "lista = [1,2,\"tre\"]\n",
    "lista"
   ]
  },
  {
   "cell_type": "markdown",
   "metadata": {},
   "source": [
    "Listor är inte vektorer i en matematisk mening, men vi kan med paket utöka funktionaliteten till vektor- och matrisberäkningar - mer om det senare. Just nu får vi nöja oss med att när vi multiplicerar listor så upprepas listans innehåll."
   ]
  },
  {
   "cell_type": "code",
   "execution_count": 111,
   "metadata": {},
   "outputs": [
    {
     "data": {
      "text/plain": [
       "[1, 2, 'tre', 1, 2, 'tre', 1, 2, 'tre']"
      ]
     },
     "execution_count": 111,
     "metadata": {},
     "output_type": "execute_result"
    }
   ],
   "source": [
    "lista*3"
   ]
  },
  {
   "cell_type": "markdown",
   "metadata": {},
   "source": [
    "Vi kan skapa listor av listor:"
   ]
  },
  {
   "cell_type": "code",
   "execution_count": 112,
   "metadata": {},
   "outputs": [
    {
     "data": {
      "text/plain": [
       "[[1, 2, 'tre'], [1, 2, 'tre'], [1, 2, 'tre']]"
      ]
     },
     "execution_count": 112,
     "metadata": {},
     "output_type": "execute_result"
    }
   ],
   "source": [
    "[lista]*3"
   ]
  },
  {
   "cell_type": "markdown",
   "metadata": {},
   "source": [
    "Vi kan hämta ett specifikt objekt från listan genom att använda dess index (kom ihåg att vi börjar räkna index från 0):"
   ]
  },
  {
   "cell_type": "code",
   "execution_count": 113,
   "metadata": {},
   "outputs": [
    {
     "data": {
      "text/plain": [
       "'tre'"
      ]
     },
     "execution_count": 113,
     "metadata": {},
     "output_type": "execute_result"
    }
   ],
   "source": [
    "lista[2]"
   ]
  },
  {
   "cell_type": "markdown",
   "metadata": {},
   "source": [
    "Listor är *mutable*, de går alltså att ändra."
   ]
  },
  {
   "cell_type": "code",
   "execution_count": 114,
   "metadata": {},
   "outputs": [
    {
     "name": "stdout",
     "output_type": "stream",
     "text": [
      "[1, 2, 'tre']\n",
      "[1, 3, 'tre']\n"
     ]
    }
   ],
   "source": [
    "print(lista)\n",
    "lista[1] = 3\n",
    "print(lista)"
   ]
  },
  {
   "cell_type": "code",
   "execution_count": 115,
   "metadata": {},
   "outputs": [
    {
     "data": {
      "text/plain": [
       "[1, 3, 'tre', 'nitton']"
      ]
     },
     "execution_count": 115,
     "metadata": {},
     "output_type": "execute_result"
    }
   ],
   "source": [
    "# Med metoden .append() kan vi lägga till värden i en lista. \n",
    "lista.append(\"nitton\")\n",
    "lista"
   ]
  },
  {
   "cell_type": "code",
   "execution_count": 125,
   "metadata": {},
   "outputs": [
    {
     "data": {
      "text/plain": [
       "1"
      ]
     },
     "execution_count": 125,
     "metadata": {},
     "output_type": "execute_result"
    }
   ],
   "source": [
    "# Vi kan räkna antalet element av en viss typ.\n",
    "lista.count(\"tre\")"
   ]
  },
  {
   "cell_type": "markdown",
   "metadata": {},
   "source": [
    "Vi kan också slicea (slajsa?) ut flera värden."
   ]
  },
  {
   "cell_type": "code",
   "execution_count": 101,
   "metadata": {},
   "outputs": [
    {
     "data": {
      "text/plain": [
       "[1, 3]"
      ]
     },
     "execution_count": 101,
     "metadata": {},
     "output_type": "execute_result"
    }
   ],
   "source": [
    "list[0:2]"
   ]
  },
  {
   "cell_type": "markdown",
   "metadata": {},
   "source": [
    "Vänta, **vad hände här**? Objektet med index två är ju det tredje objektet, men det får vi inte med i vår slice? Python inkluderar det lägre indexet, men exkluderar det övre. För att få med alla tre objekt i listan skulle vi istället kunna skriva list[0:3]."
   ]
  },
  {
   "cell_type": "markdown",
   "metadata": {},
   "source": [
    "***Tupler*** betecknas med (runda) parenteser och är speciella på det sättet att de är ordnade (och ordningen ändras inte) och oföränderliga (*immutable*). De kan innehålla olika datatyper och tillåter att värden upprepas."
   ]
  },
  {
   "cell_type": "code",
   "execution_count": 126,
   "metadata": {},
   "outputs": [
    {
     "data": {
      "text/plain": [
       "(1, 2, 'Tre', 'tre')"
      ]
     },
     "execution_count": 126,
     "metadata": {},
     "output_type": "execute_result"
    }
   ],
   "source": [
    "tuple = (1,2,\"Tre\", \"tre\")\n",
    "tuple"
   ]
  },
  {
   "cell_type": "code",
   "execution_count": 127,
   "metadata": {},
   "outputs": [
    {
     "data": {
      "text/plain": [
       "(2, 'Tre')"
      ]
     },
     "execution_count": 127,
     "metadata": {},
     "output_type": "execute_result"
    }
   ],
   "source": [
    "tuple[1:3]"
   ]
  },
  {
   "cell_type": "markdown",
   "metadata": {},
   "source": [
    "Det finns ytterligare två standardtyper som liknar varandra mycket: ***dictionary*** och ***set***. Ett dictionary består av nycklar och tillhörande värden (ett *key-value pair*), på det här formatet:"
   ]
  },
  {
   "cell_type": "code",
   "execution_count": 135,
   "metadata": {},
   "outputs": [],
   "source": [
    "dictionary = {\"nyckel\": \"värde\"}"
   ]
  },
  {
   "cell_type": "markdown",
   "metadata": {},
   "source": [
    "Vi kan få ut värden för en viss nyckel:"
   ]
  },
  {
   "cell_type": "code",
   "execution_count": 136,
   "metadata": {},
   "outputs": [
    {
     "data": {
      "text/plain": [
       "'värde'"
      ]
     },
     "execution_count": 136,
     "metadata": {},
     "output_type": "execute_result"
    }
   ],
   "source": [
    "dictionary[\"nyckel\"]"
   ]
  },
  {
   "cell_type": "markdown",
   "metadata": {},
   "source": [
    "På samma sätt kan vi också lägga in fler nycklar och värden:"
   ]
  },
  {
   "cell_type": "code",
   "execution_count": 137,
   "metadata": {},
   "outputs": [
    {
     "data": {
      "text/plain": [
       "{'nyckel': 'värde', 'nyckel2': 2}"
      ]
     },
     "execution_count": 137,
     "metadata": {},
     "output_type": "execute_result"
    }
   ],
   "source": [
    "dictionary[\"nyckel2\"] = 2\n",
    "dictionary"
   ]
  },
  {
   "cell_type": "code",
   "execution_count": 156,
   "metadata": {},
   "outputs": [
    {
     "name": "stdout",
     "output_type": "stream",
     "text": [
      "dict_keys(['nyckel', 'nyckel2'])\n",
      "dict_values(['värde', 2])\n",
      "dict_items([('nyckel', 'värde'), ('nyckel2', 2)])\n"
     ]
    }
   ],
   "source": [
    "# Vi kan komma åt nycklar och värden i ett dictionary:\n",
    "print(dictionary.keys())\n",
    "print(dictionary.values())\n",
    "print(dictionary.items())"
   ]
  },
  {
   "cell_type": "markdown",
   "metadata": {},
   "source": [
    "Ett set är en uppsättning värden, där varje värde bara förekommer en gång. Även set anges mer måsvingar, men inte som key-value-par."
   ]
  },
  {
   "cell_type": "code",
   "execution_count": 128,
   "metadata": {},
   "outputs": [
    {
     "data": {
      "text/plain": [
       "{3, 'Två', 'ett', 'två'}"
      ]
     },
     "execution_count": 128,
     "metadata": {},
     "output_type": "execute_result"
    }
   ],
   "source": [
    "ett_set = {\"ett\", \"två\", \"ett\", 3, 3, 3, \"Två\"}\n",
    "ett_set"
   ]
  },
  {
   "cell_type": "code",
   "execution_count": 129,
   "metadata": {},
   "outputs": [
    {
     "data": {
      "text/plain": [
       "{3, 'Två', 'ett', 'fyra', 'två'}"
      ]
     },
     "execution_count": 129,
     "metadata": {},
     "output_type": "execute_result"
    }
   ],
   "source": [
    "# För att lägga till ett nytt värde i ett set använder vi metoden .add()\n",
    "ett_set.add(\"fyra\")\n",
    "ett_set"
   ]
  },
  {
   "cell_type": "markdown",
   "metadata": {},
   "source": [
    "### Booleska värden och logiska operatorer\n",
    "**True** och **False** skrivs precis så i Python (med inledande versal).\n",
    "\n",
    "Jämförelser görs med typiska operatorer: >, <, ==, >=, <=, !=, men även *is* kan användas."
   ]
  },
  {
   "cell_type": "code",
   "execution_count": 9,
   "metadata": {},
   "outputs": [
    {
     "name": "stdout",
     "output_type": "stream",
     "text": [
      "False\n",
      "False\n",
      "True\n",
      "True\n"
     ]
    }
   ],
   "source": [
    "print(1 == 2 )\n",
    "print(1 >= 2 )\n",
    "print(1 <= 2 )\n",
    "print(1 != 2 )"
   ]
  },
  {
   "cell_type": "markdown",
   "metadata": {},
   "source": [
    "Med *is* testar vi om två variabler pekar på samma objekt i minnet. Det fungerar bra med numeriska värden som är *immutable*:"
   ]
  },
  {
   "cell_type": "code",
   "execution_count": 134,
   "metadata": {},
   "outputs": [
    {
     "data": {
      "text/plain": [
       "True"
      ]
     },
     "execution_count": 134,
     "metadata": {},
     "output_type": "execute_result"
    }
   ],
   "source": [
    "a = 100\n",
    "b = 100\n",
    "\n",
    "a is b"
   ]
  },
  {
   "cell_type": "markdown",
   "metadata": {},
   "source": [
    "Vill vi jämföra om två värden eller variabler är lika bör vi alltså använda ==\n",
    "\n",
    "Det finns några booleska operatorer: *in*, *or*, *and* och *not*"
   ]
  },
  {
   "cell_type": "code",
   "execution_count": 147,
   "metadata": {},
   "outputs": [
    {
     "name": "stdout",
     "output_type": "stream",
     "text": [
      "True\n",
      "True\n",
      "True\n"
     ]
    }
   ],
   "source": [
    "# Vilken output tror du att det kommer bli i följande tre fall?\n",
    "\n",
    "print(1 in [1,2,3])\n",
    "print(4 not in [1,2,3] and 2 == (1+1))\n",
    "print(\"hej\" in [\"hej\", \"hopp\"] and 1 > 2 or 3 in [1,2,3])"
   ]
  },
  {
   "cell_type": "markdown",
   "metadata": {},
   "source": [
    "### Import av moduler\n",
    "\n",
    "Python-installationen kommer med moduler som inte laddas per automatik. Det går också att utöka Pythons funktionalitet med tredjepartsmoduler eller paket. För att importera ett paket eller en modul finns det tre tillvägagångssätt, här använder vi math-modulen som ett exempel. \n",
    "\n",
    "Importera hela modulen - här kommer alla funktioner och konstanter som modulen innehålla läggas i ett *namespace* där vi kan komma åt funktionerna genom att skriva ***[modulnamn].[funktion]***. \n"
   ]
  },
  {
   "cell_type": "code",
   "execution_count": 5,
   "metadata": {},
   "outputs": [],
   "source": [
    "import math"
   ]
  },
  {
   "cell_type": "markdown",
   "metadata": {},
   "source": [
    "Vi kan nu använda alla funktioner i modulen math genom att ange modulnamnet som det namespace vi vill hämta funktionen från:"
   ]
  },
  {
   "cell_type": "code",
   "execution_count": 4,
   "metadata": {},
   "outputs": [
    {
     "data": {
      "text/plain": [
       "2.302585092994046"
      ]
     },
     "execution_count": 4,
     "metadata": {},
     "output_type": "execute_result"
    }
   ],
   "source": [
    "math.log(10)"
   ]
  },
  {
   "cell_type": "markdown",
   "metadata": {},
   "source": [
    "Vi kan också ge modulen ett alias för att göra kod mer läsbar, t ex:"
   ]
  },
  {
   "cell_type": "code",
   "execution_count": 6,
   "metadata": {},
   "outputs": [
    {
     "data": {
      "text/plain": [
       "3.0"
      ]
     },
     "execution_count": 6,
     "metadata": {},
     "output_type": "execute_result"
    }
   ],
   "source": [
    "import math as m\n",
    "m.sqrt(9)"
   ]
  },
  {
   "cell_type": "markdown",
   "metadata": {},
   "source": [
    "Slutligen kan vi importera en enskild funktion från en modul. När vi importerar på det här sättet så placeras funktionen i det globala namespacet och vi kan använda funktionen direkt. Det skulle dock kunna medföra att en av två funktioner som råkar dela samma namn skuggas ut och är otillgänglig."
   ]
  },
  {
   "cell_type": "code",
   "execution_count": 15,
   "metadata": {},
   "outputs": [
    {
     "data": {
      "text/plain": [
       "8103.083927575384"
      ]
     },
     "execution_count": 15,
     "metadata": {},
     "output_type": "execute_result"
    }
   ],
   "source": [
    "from math import exp\n",
    "exp(9)"
   ]
  },
  {
   "cell_type": "markdown",
   "metadata": {},
   "source": [
    "### Lite mer om indexering\n",
    "\n",
    "Som vi såg tidigare kan strängar, listor med mera kan ha index som låter oss hämta ett eller flera element."
   ]
  },
  {
   "cell_type": "code",
   "execution_count": 28,
   "metadata": {},
   "outputs": [
    {
     "name": "stdout",
     "output_type": "stream",
     "text": [
      "e\n",
      "n st\n",
      "räng\n",
      "sträng\n",
      "nrs\n"
     ]
    }
   ],
   "source": [
    "# Första elementet i strängen string.\n",
    "print(\"en sträng\"[0])\n",
    "\n",
    "# Vi kan hämta flera element genom att använda kolon (:).\n",
    "print(\"en sträng\"[1:5])\n",
    "\n",
    "# Det går bra att använda kolon för att välja allt från början eller slutet.\n",
    "print(\"en sträng\"[5:])\n",
    "\n",
    "# Vi kan indexera från slutet genom att skriva ett negativt tal.\n",
    "print(\"en sträng\"[-6:])\n",
    "\n",
    "# Vi kan också välja t ex varannan bokstav i strängen (här backar vi genom strängen).\n",
    "print(\"en sträng\"[7:1:-2])"
   ]
  },
  {
   "cell_type": "markdown",
   "metadata": {},
   "source": [
    "### Något om strängmetoder\n",
    "\n",
    "Det finns många bra metoder för att arbeta med strängar, till exempel..."
   ]
  },
  {
   "cell_type": "code",
   "execution_count": 29,
   "metadata": {},
   "outputs": [
    {
     "name": "stdout",
     "output_type": "stream",
     "text": [
      "lowercase\n",
      "UPPERCASE\n"
     ]
    }
   ],
   "source": [
    "print(\"LoWerCaSE\".lower())\n",
    "print(\"uppercase\".upper())"
   ]
  },
  {
   "cell_type": "markdown",
   "metadata": {},
   "source": [
    "En väldigt smidig sak med Python är att vi kan kedja ihop flera metoder som hör till samma klass, för att utföra flera operationer på ett objekt."
   ]
  },
  {
   "cell_type": "code",
   "execution_count": 32,
   "metadata": {},
   "outputs": [
    {
     "data": {
      "text/plain": [
       "'UPPeRCASe'"
      ]
     },
     "execution_count": 32,
     "metadata": {},
     "output_type": "execute_result"
    }
   ],
   "source": [
    "\"uppercase   \".rstrip().upper().replace(\"E\",\"e\")"
   ]
  },
  {
   "cell_type": "code",
   "execution_count": 83,
   "metadata": {},
   "outputs": [
    {
     "name": "stdout",
     "output_type": "stream",
     "text": [
      "['a', 'string', 'consisting', 'of', 'many', 'words']\n",
      "a string consisting of many words\n"
     ]
    }
   ],
   "source": [
    "# Vi kan dela upp en sträng bestående av flera ord i en lista\n",
    "a_string = \"a string consisting of many words\"\n",
    "words = a_string.split()\n",
    "print(words)\n",
    "\n",
    "# Så här sätter vi ihop orden till en mening igen\n",
    "print(\" \".join(words))"
   ]
  },
  {
   "cell_type": "code",
   "execution_count": 85,
   "metadata": {},
   "outputs": [
    {
     "name": "stdout",
     "output_type": "stream",
     "text": [
      "['a', ' ', 's', 't', 'r', 'i', 'n', 'g', ' ', 'c', 'o', 'n', 's', 'i', 's', 't', 'i', 'n', 'g', ' ', 'o', 'f', ' ', 'm', 'a', 'n', 'y', ' ', 'w', 'o', 'r', 'd', 's']\n"
     ]
    }
   ],
   "source": [
    "# Vi kan använda oss av unpack-metoden (*) för att bryta isär allt till en lista med bokstäver\n",
    "print([*a_string])"
   ]
  },
  {
   "cell_type": "markdown",
   "metadata": {},
   "source": [
    "### Formaterade strängar\n",
    "\n",
    "Python gör det enkelt att använda en variabels värde i en sträng. Det finns olika sätt att skapa s.k. formaterade strängar, men det enklaste är att skriva ett $f$ framför strängen och ange variabeln i måsvingar."
   ]
  },
  {
   "cell_type": "code",
   "execution_count": 67,
   "metadata": {},
   "outputs": [
    {
     "data": {
      "text/plain": [
       "'klockan är 21:45'"
      ]
     },
     "execution_count": 67,
     "metadata": {},
     "output_type": "execute_result"
    }
   ],
   "source": [
    "import datetime as dt\n",
    "kl = dt.datetime.now().strftime(\"%H:%M\")\n",
    "\n",
    "f\"klockan är {kl}\""
   ]
  },
  {
   "cell_type": "code",
   "execution_count": 74,
   "metadata": {},
   "outputs": [
    {
     "data": {
      "text/plain": [
       "'1.13'"
      ]
     },
     "execution_count": 74,
     "metadata": {},
     "output_type": "execute_result"
    }
   ],
   "source": [
    "f\"{1.1312415:.3}\""
   ]
  },
  {
   "cell_type": "code",
   "execution_count": null,
   "metadata": {},
   "outputs": [],
   "source": []
  },
  {
   "cell_type": "markdown",
   "metadata": {},
   "source": [
    "### Loopar\n"
   ]
  },
  {
   "cell_type": "code",
   "execution_count": 149,
   "metadata": {},
   "outputs": [
    {
     "name": "stdout",
     "output_type": "stream",
     "text": [
      "Henrik kör oftast i 110 km/h.\n",
      "Rasmus kör oftast i 80 km/h.\n",
      "Chrille kör oftast i 30 km/h.\n"
     ]
    }
   ],
   "source": [
    "maxhastighet = {\"Henrik\": 110, \"Rasmus\": 80, \"Chrille\": 30}\n",
    "\n",
    "for namn, hastighet in maxhastighet.items():\n",
    "    print(f\"{namn} kör oftast i {hastighet} km/h.\")"
   ]
  },
  {
   "cell_type": "markdown",
   "metadata": {},
   "source": [
    "### Flödeskontroll"
   ]
  },
  {
   "cell_type": "code",
   "execution_count": null,
   "metadata": {},
   "outputs": [],
   "source": [
    "if():\n",
    "    pass\n",
    "elif():\n",
    "    pass\n",
    "else():"
   ]
  },
  {
   "cell_type": "markdown",
   "metadata": {},
   "source": [
    "### Funktioner"
   ]
  },
  {
   "cell_type": "markdown",
   "metadata": {},
   "source": [
    "### Överkurs"
   ]
  },
  {
   "cell_type": "code",
   "execution_count": 86,
   "metadata": {},
   "outputs": [],
   "source": [
    "# List comprehensions"
   ]
  },
  {
   "cell_type": "code",
   "execution_count": 87,
   "metadata": {},
   "outputs": [],
   "source": [
    "# Dictionary comprehensions"
   ]
  },
  {
   "cell_type": "code",
   "execution_count": 157,
   "metadata": {},
   "outputs": [
    {
     "data": {
      "text/plain": [
       "1"
      ]
     },
     "execution_count": 157,
     "metadata": {},
     "output_type": "execute_result"
    }
   ],
   "source": [
    "# Unpack\n",
    "ett, två, tre = (1, 2, 3) # Convert tuple to 3 variabbles\n",
    "ett"
   ]
  },
  {
   "cell_type": "code",
   "execution_count": 160,
   "metadata": {},
   "outputs": [
    {
     "name": "stdout",
     "output_type": "stream",
     "text": [
      "Det blev ett fel!\n",
      "Nu är jag klar.\n"
     ]
    }
   ],
   "source": [
    "try:\n",
    "    1+\"två\"\n",
    "except:\n",
    "    print(\"Det blev ett fel!\")\n",
    "else:\n",
    "    print(\"Det gick bra!\")\n",
    "finally:\n",
    "    print(\"Nu är jag klar.\")"
   ]
  },
  {
   "cell_type": "code",
   "execution_count": null,
   "metadata": {},
   "outputs": [],
   "source": []
  }
 ],
 "metadata": {
  "kernelspec": {
   "display_name": "Python 3.10.4 64-bit",
   "language": "python",
   "name": "python3"
  },
  "language_info": {
   "codemirror_mode": {
    "name": "ipython",
    "version": 3
   },
   "file_extension": ".py",
   "mimetype": "text/x-python",
   "name": "python",
   "nbconvert_exporter": "python",
   "pygments_lexer": "ipython3",
   "version": "3.10.4"
  },
  "orig_nbformat": 4,
  "vscode": {
   "interpreter": {
    "hash": "a214b8cab6f8035ac79aceb33a5e7fb24605f463f38782191cc80ce14d63bfdf"
   }
  }
 },
 "nbformat": 4,
 "nbformat_minor": 2
}
