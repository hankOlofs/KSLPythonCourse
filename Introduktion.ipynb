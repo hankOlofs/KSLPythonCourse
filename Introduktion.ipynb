{
 "cells": [
  {
   "cell_type": "markdown",
   "metadata": {},
   "source": [
    "# Introduktion till Python\n",
    "\n",
    "Välkommen till den här kursen i Python, mer specifikt Python3!\n",
    "\n",
    "I kursen kommer vi använda Visual Studio Code (VS Code) som utvecklingsmiljö (IDE). Instruktioner för installationen har getts separat.\n",
    "\n",
    "### Python notebooks\n",
    "Materialet är till stor del uppbyggt i så kallade notebooks (du läser i en notebook just nu!). I en notebook kan vi dels skriva och formattera text (markdown), dels skriva och köra Python-kod interaktivt. Kod i en notebook körs i den ordning du kör cellerna, vilket ger stora möjligheter att experimentera fram och tillbaka. Det kan dock få oväntade konsekvenser om man kör en cell i \"fel\" ordning och råkar ändra ett objekt på ett oväntat sätt...\n",
    "\n",
    "### Tips\n",
    "- För att köra kod i en cell, tryck shift + enter (markören flyttar sig då till nästa cell). \n",
    "- Google är din vän, typ alla problem går att lösa genom en bra sökning.\n",
    "- För att få mer information om ett objekt, använd funktionen help([objektet])\n",
    "- Python indexerar från **noll**\n",
    "\n",
    "### Kännetecken\n",
    "\n",
    "Lätt att läsa och skriva kod, långsamt på att exekvera. Kompileras ej utan evalueras/utvärderas vid körning (runtime).\n",
    "\n",
    "Det finns en rik flora av paket som utökar Pythons funktionalitet.\n",
    "\n",
    "\n",
    "###"
   ]
  },
  {
   "cell_type": "markdown",
   "metadata": {},
   "source": [
    "### Objekttyper\n",
    "\n",
    "Vi börjar med att kolla på det mest grundläggande, objekt och objekttyper. I Python behöver vi inte deklarera någon objekttyp som i många andra språk. Istället är Python ett **dynamiskt typat** språk, där ett objekts typ beror på dess tilldelade värde när vi kör koden. Python är också ett **starkt typat** språk, vilket betyder att alla variabler och objekt har en typ och att typen spelar roll när man utför operationer på dem.\n",
    "\n",
    "Testa att köra cellerna nedan (shift + enter) och se om resultatet överensstämmer med det du förväntar dig!"
   ]
  },
  {
   "cell_type": "code",
   "execution_count": 1,
   "metadata": {},
   "outputs": [
    {
     "name": "stdout",
     "output_type": "stream",
     "text": [
      "en sträng\n"
     ]
    },
    {
     "data": {
      "text/plain": [
       "str"
      ]
     },
     "execution_count": 1,
     "metadata": {},
     "output_type": "execute_result"
    }
   ],
   "source": [
    "a_string = \"en sträng\"\n",
    "print(a_string)\n",
    "type(a_string)\n"
   ]
  },
  {
   "cell_type": "code",
   "execution_count": 3,
   "metadata": {},
   "outputs": [
    {
     "data": {
      "text/plain": [
       "int"
      ]
     },
     "execution_count": 3,
     "metadata": {},
     "output_type": "execute_result"
    }
   ],
   "source": [
    "an_int = 42\n",
    "type(an_int)"
   ]
  },
  {
   "cell_type": "code",
   "execution_count": 8,
   "metadata": {},
   "outputs": [
    {
     "data": {
      "text/plain": [
       "float"
      ]
     },
     "execution_count": 8,
     "metadata": {},
     "output_type": "execute_result"
    }
   ],
   "source": [
    "a_float = 42.0\n",
    "type(a_float)"
   ]
  },
  {
   "cell_type": "markdown",
   "metadata": {},
   "source": [
    "Python är som sagt starkt typat, så alla objekttyper är inte kompatibla. Jämför de två fallen nedan (Obs! I första fallet får vi ett TypeError - läs felmeddelandet för mer information)."
   ]
  },
  {
   "cell_type": "code",
   "execution_count": 9,
   "metadata": {},
   "outputs": [
    {
     "ename": "TypeError",
     "evalue": "can only concatenate str (not \"int\") to str",
     "output_type": "error",
     "traceback": [
      "\u001b[1;31m---------------------------------------------------------------------------\u001b[0m",
      "\u001b[1;31mTypeError\u001b[0m                                 Traceback (most recent call last)",
      "Cell \u001b[1;32mIn [9], line 1\u001b[0m\n\u001b[1;32m----> 1\u001b[0m \u001b[38;5;124m\"\u001b[39m\u001b[38;5;124msträng\u001b[39m\u001b[38;5;124m\"\u001b[39m \u001b[38;5;241m+\u001b[39m \u001b[38;5;241m123\u001b[39m\n",
      "\u001b[1;31mTypeError\u001b[0m: can only concatenate str (not \"int\") to str"
     ]
    }
   ],
   "source": [
    "\"sträng\" + 123"
   ]
  },
  {
   "cell_type": "code",
   "execution_count": 37,
   "metadata": {},
   "outputs": [
    {
     "data": {
      "text/plain": [
       "133.15"
      ]
     },
     "execution_count": 37,
     "metadata": {},
     "output_type": "execute_result"
    }
   ],
   "source": [
    "10+123.15"
   ]
  },
  {
   "cell_type": "markdown",
   "metadata": {},
   "source": [
    "Python är också dynamiskt typat, se vad som händer med variabeln a nedan."
   ]
  },
  {
   "cell_type": "code",
   "execution_count": 36,
   "metadata": {},
   "outputs": [
    {
     "name": "stdout",
     "output_type": "stream",
     "text": [
      "<class 'str'>\n",
      "<class 'int'>\n"
     ]
    }
   ],
   "source": [
    "a = \"sträng\"\n",
    "print(type(a))\n",
    "a = 999\n",
    "print(type(a))\n"
   ]
  },
  {
   "cell_type": "markdown",
   "metadata": {},
   "source": [
    "Obs! Det är objeket \"sträng\" eller 999 som har typen, variabeln a är bara en etikett."
   ]
  },
  {
   "cell_type": "code",
   "execution_count": 15,
   "metadata": {},
   "outputs": [
    {
     "data": {
      "text/plain": [
       "'en sträng kan kombineras med en annan sträng'"
      ]
     },
     "execution_count": 15,
     "metadata": {},
     "output_type": "execute_result"
    }
   ],
   "source": [
    "b = \"en sträng \" + \"kan kombineras med \" + \"en annan sträng\"\n",
    "b"
   ]
  },
  {
   "cell_type": "code",
   "execution_count": 40,
   "metadata": {},
   "outputs": [],
   "source": [
    "# Psst! Hej, jag är en kommentar!\n",
    "#\n",
    "# Använd ett inledande # om du vill skapa nya kommentar-kompisar till mig för att beskriva din kod.\n",
    "# Tips: Du kan kommentera eller avkommentera ett helt kodblock genom att markera det och trycka\n",
    "# Ctrl + ' (på ett svenskt tangentbord). Testa gärna här!"
   ]
  },
  {
   "cell_type": "markdown",
   "metadata": {},
   "source": [
    "### Andra objekttyper\n",
    "Nu har vi sett några objekttyper: str, int och float. Det finns några andra inbyggda typer som  du säkert känner igen från andra språk, men kanske också några nyheter. Vi går igenom några av de vanligaste här, men vill du veta mer finns det självklart [dokumentation om objekttyper](https://docs.python.org/3/library/stdtypes.html)."
   ]
  },
  {
   "cell_type": "markdown",
   "metadata": {},
   "source": [
    "Vi börjar med de fyra olika typerna för samlingar av objekt (*collections*). Det finns ***listor*** som anges med [hak-klamrar], elementen separeras med komma. Listor kan innehålla olika typer av objekt."
   ]
  },
  {
   "cell_type": "code",
   "execution_count": 33,
   "metadata": {},
   "outputs": [
    {
     "data": {
      "text/plain": [
       "[1, 2, 'tre']"
      ]
     },
     "execution_count": 33,
     "metadata": {},
     "output_type": "execute_result"
    }
   ],
   "source": [
    "list = [1,2,\"tre\"]\n",
    "list"
   ]
  },
  {
   "cell_type": "markdown",
   "metadata": {},
   "source": [
    "Listor är inte vektorer i en matematisk mening, men vi kan med paket utöka funktionaliteten till vektor- och matrisberäkningar - mer om det senare. Just nu får vi nöja oss med att när vi multiplicerar listor så upprepas listans innehåll."
   ]
  },
  {
   "cell_type": "code",
   "execution_count": 34,
   "metadata": {},
   "outputs": [
    {
     "data": {
      "text/plain": [
       "[1, 2, 'tre', 1, 2, 'tre', 1, 2, 'tre']"
      ]
     },
     "execution_count": 34,
     "metadata": {},
     "output_type": "execute_result"
    }
   ],
   "source": [
    "list*3"
   ]
  },
  {
   "cell_type": "markdown",
   "metadata": {},
   "source": [
    "Vi kan skapa listor av listor:"
   ]
  },
  {
   "cell_type": "code",
   "execution_count": 41,
   "metadata": {},
   "outputs": [
    {
     "data": {
      "text/plain": [
       "[[1, 2, 'tre'], [1, 2, 'tre'], [1, 2, 'tre']]"
      ]
     },
     "execution_count": 41,
     "metadata": {},
     "output_type": "execute_result"
    }
   ],
   "source": [
    "[list]*3"
   ]
  },
  {
   "cell_type": "markdown",
   "metadata": {},
   "source": [
    "Vi kan hämta ett specifikt objekt från listan genom att använda dess index (kom ihåg att vi börjar räkna index från 0):"
   ]
  },
  {
   "cell_type": "code",
   "execution_count": 42,
   "metadata": {},
   "outputs": [
    {
     "data": {
      "text/plain": [
       "'tre'"
      ]
     },
     "execution_count": 42,
     "metadata": {},
     "output_type": "execute_result"
    }
   ],
   "source": [
    "list[2]"
   ]
  },
  {
   "cell_type": "markdown",
   "metadata": {},
   "source": [
    "Vi kan också slicea (slajsa?) ut flera värden."
   ]
  },
  {
   "cell_type": "code",
   "execution_count": 45,
   "metadata": {},
   "outputs": [
    {
     "data": {
      "text/plain": [
       "[1, 2]"
      ]
     },
     "execution_count": 45,
     "metadata": {},
     "output_type": "execute_result"
    }
   ],
   "source": [
    "list[0:2]"
   ]
  },
  {
   "cell_type": "markdown",
   "metadata": {},
   "source": [
    "Vänta, **vad hände här**? Objektet med index två är ju det tredje objektet, men det får vi inte med i vår slice? Python inkluderar det lägre indexet, men exkluderar det övre. För att få med alla tre objekt i listan skulle vi istället kunna skriva list[0:3]."
   ]
  },
  {
   "cell_type": "markdown",
   "metadata": {},
   "source": [
    "***Tupler*** betecknas med (runda) parenteser och är speciella på det sättet att de är ordnade (och ordningen ändras inte) och oföränderliga. De kan innehålla olika datatyper och tillåter upprepningar."
   ]
  },
  {
   "cell_type": "code",
   "execution_count": 64,
   "metadata": {},
   "outputs": [
    {
     "data": {
      "text/plain": [
       "(1, 2, 'Tre', 'Tre')"
      ]
     },
     "execution_count": 64,
     "metadata": {},
     "output_type": "execute_result"
    }
   ],
   "source": [
    "tuple = (1,2,\"Tre\", \"Tre\")\n",
    "tuple"
   ]
  },
  {
   "cell_type": "code",
   "execution_count": 68,
   "metadata": {},
   "outputs": [
    {
     "data": {
      "text/plain": [
       "(2, 'Tre')"
      ]
     },
     "execution_count": 68,
     "metadata": {},
     "output_type": "execute_result"
    }
   ],
   "source": [
    "tuple[1:3]"
   ]
  },
  {
   "cell_type": "code",
   "execution_count": 59,
   "metadata": {},
   "outputs": [
    {
     "ename": "TypeError",
     "evalue": "'tuple' object does not support item assignment",
     "output_type": "error",
     "traceback": [
      "\u001b[1;31m---------------------------------------------------------------------------\u001b[0m",
      "\u001b[1;31mTypeError\u001b[0m                                 Traceback (most recent call last)",
      "Cell \u001b[1;32mIn [59], line 1\u001b[0m\n\u001b[1;32m----> 1\u001b[0m (\u001b[39m1\u001b[39m,\u001b[39m2\u001b[39m,\u001b[39m\"\u001b[39m\u001b[39mTre\u001b[39m\u001b[39m\"\u001b[39m)[\u001b[39m0\u001b[39m]\u001b[39m=\u001b[39m\u001b[39m2\u001b[39m\n",
      "\u001b[1;31mTypeError\u001b[0m: 'tuple' object does not support item assignment"
     ]
    }
   ],
   "source": []
  },
  {
   "cell_type": "markdown",
   "metadata": {},
   "source": [
    "### Logiska operatorer\n",
    "Jämförelser görs med ett typiskt syntax: >, <, ==, >=, <=, !=, men även *is* och *is not*."
   ]
  },
  {
   "cell_type": "code",
   "execution_count": 9,
   "metadata": {},
   "outputs": [
    {
     "name": "stdout",
     "output_type": "stream",
     "text": [
      "False\n",
      "False\n",
      "True\n",
      "True\n"
     ]
    }
   ],
   "source": [
    "print(1 == 2 )\n",
    "print(1 >= 2 )\n",
    "print(1 <= 2 )\n",
    "print(1 != 2 )"
   ]
  },
  {
   "cell_type": "markdown",
   "metadata": {},
   "source": [
    "Med *is* testar vi om två variabler pekar på samma objekt i minnet. Testa att ändra a eller b till ett annat värde och se vad som händer!"
   ]
  },
  {
   "cell_type": "code",
   "execution_count": 32,
   "metadata": {},
   "outputs": [
    {
     "data": {
      "text/plain": [
       "True"
      ]
     },
     "execution_count": 32,
     "metadata": {},
     "output_type": "execute_result"
    }
   ],
   "source": [
    "a = 100\n",
    "b = 100\n",
    "\n",
    "a is b"
   ]
  },
  {
   "cell_type": "markdown",
   "metadata": {},
   "source": [
    "Det finns också booleska operatorer: *or*, *and* och *not*"
   ]
  },
  {
   "cell_type": "code",
   "execution_count": 25,
   "metadata": {},
   "outputs": [
    {
     "name": "stdout",
     "output_type": "stream",
     "text": [
      "True\n",
      "True\n",
      "True\n"
     ]
    }
   ],
   "source": [
    "print(1 in [1,2,3])\n",
    "print(4 not in [1,2,3] and 2 in [1,2,3])\n",
    "print(2 > 1 or 3 in [1,2,3])"
   ]
  },
  {
   "cell_type": "code",
   "execution_count": 13,
   "metadata": {},
   "outputs": [
    {
     "data": {
      "text/plain": [
       "True"
      ]
     },
     "execution_count": 13,
     "metadata": {},
     "output_type": "execute_result"
    }
   ],
   "source": []
  },
  {
   "cell_type": "code",
   "execution_count": null,
   "metadata": {},
   "outputs": [],
   "source": []
  }
 ],
 "metadata": {
  "kernelspec": {
   "display_name": "Python 3.9.13 64-bit (microsoft store)",
   "language": "python",
   "name": "python3"
  },
  "language_info": {
   "codemirror_mode": {
    "name": "ipython",
    "version": 3
   },
   "file_extension": ".py",
   "mimetype": "text/x-python",
   "name": "python",
   "nbconvert_exporter": "python",
   "pygments_lexer": "ipython3",
   "version": "3.9.13"
  },
  "orig_nbformat": 4,
  "vscode": {
   "interpreter": {
    "hash": "e1a31ebade161af13993ce12fb41b5d9056a38f0024570c1f6ecf2658ab90b74"
   }
  }
 },
 "nbformat": 4,
 "nbformat_minor": 2
}
